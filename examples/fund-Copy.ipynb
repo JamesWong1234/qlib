{
 "cells": [
  {
   "cell_type": "code",
   "execution_count": 139,
   "metadata": {},
   "outputs": [],
   "source": [
    "import pandas as pd\n",
    "import numpy as np\n",
    "import time\n",
    "from datetime import datetime\n",
    "from sklearn.preprocessing import MinMaxScaler\n",
    "from sklearn.metrics import r2_score,mean_squared_error\n",
    "from sklearn.linear_model import LinearRegression\n",
    "from sklearn.ensemble import RandomForestRegressor\n",
    "import lightgbm as lgb\n",
    "import matplotlib.pyplot as plt\n",
    "import seaborn as sns"
   ]
  },
  {
   "cell_type": "markdown",
   "metadata": {},
   "source": [
    "# Step1： 读出来所有基金的数据"
   ]
  },
  {
   "cell_type": "code",
   "execution_count": 140,
   "metadata": {},
   "outputs": [
    {
     "name": "stderr",
     "output_type": "stream",
     "text": [
      "[52270:MainThread](2021-05-13 23:42:25,669) INFO - qlib.Initialization - [config.py:276] - default_conf: client.\n",
      "[52270:MainThread](2021-05-13 23:42:25,692) WARNING - qlib.Initialization - [config.py:292] - redis connection failed(host=127.0.0.1 port=6379), cache will not be used!\n",
      "[52270:MainThread](2021-05-13 23:42:25,700) INFO - qlib.Initialization - [__init__.py:46] - qlib successfully initialized based on client settings.\n",
      "[52270:MainThread](2021-05-13 23:42:25,701) INFO - qlib.Initialization - [__init__.py:47] - data_path=/Users/wangfan/.qlib/qlib_data/cn_fund_data\n"
     ]
    }
   ],
   "source": [
    "import qlib\n",
    "from qlib.data import D\n",
    "\n",
    "qlib.init(provider_uri=\"~/.qlib/qlib_data/cn_fund_data\")\n",
    "df = D.features(D.instruments(market=\"all\"), [\"$DWJZ\", \"$LJJZ\"], freq=\"day\")"
   ]
  },
  {
   "cell_type": "code",
   "execution_count": 141,
   "metadata": {},
   "outputs": [
    {
     "data": {
      "text/plain": [
       "(9720744, 2)"
      ]
     },
     "execution_count": 141,
     "metadata": {},
     "output_type": "execute_result"
    }
   ],
   "source": [
    "df.shape"
   ]
  },
  {
   "cell_type": "code",
   "execution_count": 142,
   "metadata": {},
   "outputs": [
    {
     "data": {
      "text/html": [
       "<div>\n",
       "<style scoped>\n",
       "    .dataframe tbody tr th:only-of-type {\n",
       "        vertical-align: middle;\n",
       "    }\n",
       "\n",
       "    .dataframe tbody tr th {\n",
       "        vertical-align: top;\n",
       "    }\n",
       "\n",
       "    .dataframe thead th {\n",
       "        text-align: right;\n",
       "    }\n",
       "</style>\n",
       "<table border=\"1\" class=\"dataframe\">\n",
       "  <thead>\n",
       "    <tr style=\"text-align: right;\">\n",
       "      <th></th>\n",
       "      <th></th>\n",
       "      <th>$DWJZ</th>\n",
       "      <th>$LJJZ</th>\n",
       "    </tr>\n",
       "    <tr>\n",
       "      <th>instrument</th>\n",
       "      <th>datetime</th>\n",
       "      <th></th>\n",
       "      <th></th>\n",
       "    </tr>\n",
       "  </thead>\n",
       "  <tbody>\n",
       "    <tr>\n",
       "      <th rowspan=\"5\" valign=\"top\">980003</th>\n",
       "      <th>2021-04-23</th>\n",
       "      <td>1.4565</td>\n",
       "      <td>1.4565</td>\n",
       "    </tr>\n",
       "    <tr>\n",
       "      <th>2021-04-26</th>\n",
       "      <td>1.4572</td>\n",
       "      <td>1.4572</td>\n",
       "    </tr>\n",
       "    <tr>\n",
       "      <th>2021-04-27</th>\n",
       "      <td>1.4575</td>\n",
       "      <td>1.4575</td>\n",
       "    </tr>\n",
       "    <tr>\n",
       "      <th>2021-04-28</th>\n",
       "      <td>1.4576</td>\n",
       "      <td>1.4576</td>\n",
       "    </tr>\n",
       "    <tr>\n",
       "      <th>2021-04-29</th>\n",
       "      <td>1.4578</td>\n",
       "      <td>1.4578</td>\n",
       "    </tr>\n",
       "  </tbody>\n",
       "</table>\n",
       "</div>"
      ],
      "text/plain": [
       "                        $DWJZ   $LJJZ\n",
       "instrument datetime                  \n",
       "980003     2021-04-23  1.4565  1.4565\n",
       "           2021-04-26  1.4572  1.4572\n",
       "           2021-04-27  1.4575  1.4575\n",
       "           2021-04-28  1.4576  1.4576\n",
       "           2021-04-29  1.4578  1.4578"
      ]
     },
     "execution_count": 142,
     "metadata": {},
     "output_type": "execute_result"
    }
   ],
   "source": [
    "df.tail()"
   ]
  },
  {
   "cell_type": "code",
   "execution_count": 143,
   "metadata": {},
   "outputs": [
    {
     "data": {
      "text/plain": [
       "Index(['$DWJZ', '$LJJZ'], dtype='object')"
      ]
     },
     "execution_count": 143,
     "metadata": {},
     "output_type": "execute_result"
    }
   ],
   "source": [
    "df.columns"
   ]
  },
  {
   "cell_type": "code",
   "execution_count": 144,
   "metadata": {},
   "outputs": [],
   "source": [
    "df = df.reset_index()"
   ]
  },
  {
   "cell_type": "code",
   "execution_count": 145,
   "metadata": {},
   "outputs": [
    {
     "data": {
      "text/html": [
       "<div>\n",
       "<style scoped>\n",
       "    .dataframe tbody tr th:only-of-type {\n",
       "        vertical-align: middle;\n",
       "    }\n",
       "\n",
       "    .dataframe tbody tr th {\n",
       "        vertical-align: top;\n",
       "    }\n",
       "\n",
       "    .dataframe thead th {\n",
       "        text-align: right;\n",
       "    }\n",
       "</style>\n",
       "<table border=\"1\" class=\"dataframe\">\n",
       "  <thead>\n",
       "    <tr style=\"text-align: right;\">\n",
       "      <th></th>\n",
       "      <th>instrument</th>\n",
       "      <th>datetime</th>\n",
       "      <th>$DWJZ</th>\n",
       "      <th>$LJJZ</th>\n",
       "    </tr>\n",
       "  </thead>\n",
       "  <tbody>\n",
       "    <tr>\n",
       "      <th>0</th>\n",
       "      <td>000001</td>\n",
       "      <td>2005-01-04</td>\n",
       "      <td>0.995</td>\n",
       "      <td>1.115</td>\n",
       "    </tr>\n",
       "    <tr>\n",
       "      <th>1</th>\n",
       "      <td>000001</td>\n",
       "      <td>2005-01-05</td>\n",
       "      <td>0.998</td>\n",
       "      <td>1.118</td>\n",
       "    </tr>\n",
       "    <tr>\n",
       "      <th>2</th>\n",
       "      <td>000001</td>\n",
       "      <td>2005-01-06</td>\n",
       "      <td>0.991</td>\n",
       "      <td>1.111</td>\n",
       "    </tr>\n",
       "    <tr>\n",
       "      <th>3</th>\n",
       "      <td>000001</td>\n",
       "      <td>2005-01-07</td>\n",
       "      <td>0.989</td>\n",
       "      <td>1.109</td>\n",
       "    </tr>\n",
       "    <tr>\n",
       "      <th>4</th>\n",
       "      <td>000001</td>\n",
       "      <td>2005-01-10</td>\n",
       "      <td>0.992</td>\n",
       "      <td>1.112</td>\n",
       "    </tr>\n",
       "  </tbody>\n",
       "</table>\n",
       "</div>"
      ],
      "text/plain": [
       "  instrument   datetime  $DWJZ  $LJJZ\n",
       "0     000001 2005-01-04  0.995  1.115\n",
       "1     000001 2005-01-05  0.998  1.118\n",
       "2     000001 2005-01-06  0.991  1.111\n",
       "3     000001 2005-01-07  0.989  1.109\n",
       "4     000001 2005-01-10  0.992  1.112"
      ]
     },
     "execution_count": 145,
     "metadata": {},
     "output_type": "execute_result"
    }
   ],
   "source": [
    "df.head()"
   ]
  },
  {
   "cell_type": "markdown",
   "metadata": {},
   "source": [
    "LJJZ:因此累计净值更能准确地体现一只基金的赚钱能力。"
   ]
  },
  {
   "cell_type": "markdown",
   "metadata": {},
   "source": [
    "# 收益和时间的关系"
   ]
  },
  {
   "cell_type": "markdown",
   "metadata": {},
   "source": [
    "## 策略1:收益预测，随机选择1个基金10000元，拿在手上200天，涨幅多少？亏损多少？"
   ]
  },
  {
   "cell_type": "code",
   "execution_count": 146,
   "metadata": {},
   "outputs": [
    {
     "data": {
      "text/plain": [
       "9720744"
      ]
     },
     "execution_count": 146,
     "metadata": {},
     "output_type": "execute_result"
    }
   ],
   "source": [
    "df.shape[0]"
   ]
  },
  {
   "cell_type": "code",
   "execution_count": 147,
   "metadata": {},
   "outputs": [
    {
     "data": {
      "text/plain": [
       "3.0"
      ]
     },
     "execution_count": 147,
     "metadata": {},
     "output_type": "execute_result"
    }
   ],
   "source": [
    "np.mean([1,2,3,4,5])"
   ]
  },
  {
   "cell_type": "code",
   "execution_count": 148,
   "metadata": {},
   "outputs": [],
   "source": [
    "import random\n",
    "import datetime\n",
    "import numpy as np"
   ]
  },
  {
   "cell_type": "code",
   "execution_count": 149,
   "metadata": {},
   "outputs": [],
   "source": [
    "st = '2020-04-29 00:00:00'\n",
    "dt = datetime.datetime.strptime(st, \"%Y-%m-%d %H:%M:%S\")"
   ]
  },
  {
   "cell_type": "code",
   "execution_count": 65,
   "metadata": {},
   "outputs": [
    {
     "name": "stdout",
     "output_type": "stream",
     "text": [
      "1.0893517\n",
      "0.19377252\n"
     ]
    }
   ],
   "source": [
    "count = 0\n",
    "sum_ins = 0\n",
    "list1 = []\n",
    "for i in range(10000):\n",
    "    index = random.randint(1,df.shape[0])\n",
    "    if (df.iloc[index]['datetime'] < dt) & (df.iloc[index]['$LJJZ'] > 0):\n",
    "        item = df.iloc[index+200]['$LJJZ']/df.iloc[index]['$LJJZ']\n",
    "        if not(np.isnan(item)):\n",
    "            count += 1\n",
    "            sum_ins += item\n",
    "            list1.append(item)\n",
    "print(np.mean(list1))\n",
    "print(np.std(list1))"
   ]
  },
  {
   "cell_type": "markdown",
   "metadata": {},
   "source": [
    "## 策略2:收益预测，随机选择1个基金10000元，拿在手上100天，涨幅多少？亏损多少？"
   ]
  },
  {
   "cell_type": "code",
   "execution_count": 66,
   "metadata": {},
   "outputs": [],
   "source": [
    "st = '2020-04-29 00:00:00'\n",
    "dt = datetime.datetime.strptime(st, \"%Y-%m-%d %H:%M:%S\")"
   ]
  },
  {
   "cell_type": "code",
   "execution_count": 67,
   "metadata": {},
   "outputs": [
    {
     "name": "stdout",
     "output_type": "stream",
     "text": [
      "1.0404161\n",
      "0.11959813\n"
     ]
    }
   ],
   "source": [
    "count = 0\n",
    "sum_ins = 0\n",
    "list1 = []\n",
    "for i in range(10000):\n",
    "    index = random.randint(1,df.shape[0])\n",
    "    if (df.iloc[index]['datetime'] < dt) & (df.iloc[index]['$LJJZ'] > 0):\n",
    "        item = df.iloc[index+100]['$LJJZ']/df.iloc[index]['$LJJZ']\n",
    "        if not(np.isnan(item)):\n",
    "            count += 1\n",
    "            sum_ins += item\n",
    "            list1.append(item)\n",
    "print(np.mean(list1))\n",
    "print(np.std(list1))"
   ]
  },
  {
   "cell_type": "markdown",
   "metadata": {},
   "source": [
    "## 策略3:收益预测，随机选择1个基金10000元，拿在手上400天，涨幅多少？亏损多少？"
   ]
  },
  {
   "cell_type": "code",
   "execution_count": 68,
   "metadata": {},
   "outputs": [
    {
     "name": "stdout",
     "output_type": "stream",
     "text": [
      "1.1310375\n",
      "0.26123962\n"
     ]
    }
   ],
   "source": [
    "st = '2019-04-29 00:00:00'\n",
    "dt = datetime.datetime.strptime(st, \"%Y-%m-%d %H:%M:%S\")\n",
    "count = 0\n",
    "sum_ins = 0\n",
    "list1 = []\n",
    "for i in range(10000):\n",
    "    index = random.randint(1,df.shape[0])\n",
    "    if (df.iloc[index]['datetime'] < dt) & (df.iloc[index]['$LJJZ'] > 0):\n",
    "        item = df.iloc[index+400]['$LJJZ']/df.iloc[index]['$LJJZ']\n",
    "        if not(np.isnan(item)):\n",
    "            count += 1\n",
    "            sum_ins += item\n",
    "            list1.append(item)\n",
    "print(np.mean(list1))\n",
    "print(np.std(list1))"
   ]
  },
  {
   "cell_type": "markdown",
   "metadata": {},
   "source": [
    "# Step2: 数据加工"
   ]
  },
  {
   "cell_type": "code",
   "execution_count": 150,
   "metadata": {},
   "outputs": [],
   "source": [
    "df_new = df.copy()"
   ]
  },
  {
   "cell_type": "code",
   "execution_count": 151,
   "metadata": {},
   "outputs": [
    {
     "data": {
      "text/plain": [
       "(9720744, 4)"
      ]
     },
     "execution_count": 151,
     "metadata": {},
     "output_type": "execute_result"
    }
   ],
   "source": [
    "df_new.shape"
   ]
  },
  {
   "cell_type": "markdown",
   "metadata": {},
   "source": [
    "创建特征"
   ]
  },
  {
   "cell_type": "code",
   "execution_count": 152,
   "metadata": {},
   "outputs": [],
   "source": [
    "df_temp = df_new.groupby(['instrument'])[\"$LJJZ\"].rolling(5).agg({'max_5d':'max','min_5d':'min','mean_5d':'mean','std_5d':'std','sum_5d':'sum','median_5d':'median'})\n",
    "df_temp = df_temp.reset_index()\n",
    "df_temp = df_temp.drop(['instrument','level_1'],axis = 1)\n",
    "df_new = pd.merge(df_new, df_temp, how = 'inner', left_index=True, right_index=True) \n",
    "\n",
    "df_temp = df_new.groupby(['instrument'])[\"$LJJZ\"].rolling(20).agg({'max_20d':'max','min_20d':'min','mean_20d':'mean','std_20d':'std','sum_20d':'sum','median_20d':'median'})\n",
    "df_temp = df_temp.reset_index()\n",
    "df_temp = df_temp.drop(['instrument','level_1'],axis = 1)\n",
    "df_new = pd.merge(df_new, df_temp, how = 'inner', left_index=True, right_index=True) \n",
    "\n",
    "df_temp = df_new.groupby(['instrument'])[\"$LJJZ\"].rolling(60).agg({'max_60d':'max','min_60d':'min','mean_60d':'mean','std_60d':'std','sum_60d':'sum','median_60d':'median'})\n",
    "df_temp = df_temp.reset_index()\n",
    "df_temp = df_temp.drop(['instrument','level_1'],axis = 1)\n",
    "df_new = pd.merge(df_new, df_temp, how = 'inner', left_index=True, right_index=True) \n",
    "\n",
    "df_temp = df_new.groupby(['instrument'])[\"$LJJZ\"].rolling(120).agg({'max_120d':'max','min_120d':'min','mean_120d':'mean','std_120d':'std','sum_120d':'sum','median_120d':'median'})\n",
    "df_temp = df_temp.reset_index()\n",
    "df_temp = df_temp.drop(['instrument','level_1'],axis = 1)\n",
    "df_new = pd.merge(df_new, df_temp, how = 'inner', left_index=True, right_index=True) \n",
    "\n",
    "df_temp = df_new.groupby(['instrument'])[\"$LJJZ\"].rolling(240).agg({'max_240d':'max','min_240d':'min','mean_240d':'mean','std_240d':'std','sum_240d':'sum','median_240d':'median'})\n",
    "df_temp = df_temp.reset_index()\n",
    "df_temp = df_temp.drop(['instrument','level_1'],axis = 1)\n",
    "df_new = pd.merge(df_new, df_temp, how = 'inner', left_index=True, right_index=True) \n",
    "\n",
    "df_temp = df_new.groupby(['instrument'])[\"$LJJZ\"].rolling(480).agg({'max_480d':'max','min_480d':'min','mean_480d':'mean','std_480d':'std','sum_480d':'sum','median_480d':'median'})\n",
    "df_temp = df_temp.reset_index()\n",
    "df_temp = df_temp.drop(['instrument','level_1'],axis = 1)\n",
    "df_new = pd.merge(df_new, df_temp, how = 'inner', left_index=True, right_index=True) "
   ]
  },
  {
   "cell_type": "code",
   "execution_count": 153,
   "metadata": {},
   "outputs": [],
   "source": [
    "df_new = df_new.dropna()"
   ]
  },
  {
   "cell_type": "code",
   "execution_count": 154,
   "metadata": {},
   "outputs": [],
   "source": [
    "df_no_label = df_new.copy()"
   ]
  },
  {
   "cell_type": "code",
   "execution_count": 155,
   "metadata": {},
   "outputs": [
    {
     "data": {
      "text/plain": [
       "(4871908, 40)"
      ]
     },
     "execution_count": 155,
     "metadata": {},
     "output_type": "execute_result"
    }
   ],
   "source": [
    "df_no_label.shape"
   ]
  },
  {
   "cell_type": "code",
   "execution_count": 156,
   "metadata": {},
   "outputs": [
    {
     "data": {
      "text/html": [
       "<div>\n",
       "<style scoped>\n",
       "    .dataframe tbody tr th:only-of-type {\n",
       "        vertical-align: middle;\n",
       "    }\n",
       "\n",
       "    .dataframe tbody tr th {\n",
       "        vertical-align: top;\n",
       "    }\n",
       "\n",
       "    .dataframe thead th {\n",
       "        text-align: right;\n",
       "    }\n",
       "</style>\n",
       "<table border=\"1\" class=\"dataframe\">\n",
       "  <thead>\n",
       "    <tr style=\"text-align: right;\">\n",
       "      <th></th>\n",
       "      <th>instrument</th>\n",
       "      <th>datetime</th>\n",
       "      <th>$DWJZ</th>\n",
       "      <th>$LJJZ</th>\n",
       "      <th>max_5d</th>\n",
       "      <th>min_5d</th>\n",
       "      <th>mean_5d</th>\n",
       "      <th>std_5d</th>\n",
       "      <th>sum_5d</th>\n",
       "      <th>median_5d</th>\n",
       "      <th>...</th>\n",
       "      <th>mean_240d</th>\n",
       "      <th>std_240d</th>\n",
       "      <th>sum_240d</th>\n",
       "      <th>median_240d</th>\n",
       "      <th>max_480d</th>\n",
       "      <th>min_480d</th>\n",
       "      <th>mean_480d</th>\n",
       "      <th>std_480d</th>\n",
       "      <th>sum_480d</th>\n",
       "      <th>median_480d</th>\n",
       "    </tr>\n",
       "  </thead>\n",
       "  <tbody>\n",
       "    <tr>\n",
       "      <th>479</th>\n",
       "      <td>000001</td>\n",
       "      <td>2006-12-26</td>\n",
       "      <td>1.690</td>\n",
       "      <td>2.040</td>\n",
       "      <td>2.053</td>\n",
       "      <td>2.018</td>\n",
       "      <td>2.0372</td>\n",
       "      <td>0.012755</td>\n",
       "      <td>10.186</td>\n",
       "      <td>2.040</td>\n",
       "      <td>...</td>\n",
       "      <td>1.504504</td>\n",
       "      <td>0.249264</td>\n",
       "      <td>361.081</td>\n",
       "      <td>1.5760</td>\n",
       "      <td>2.053</td>\n",
       "      <td>0.979</td>\n",
       "      <td>1.289679</td>\n",
       "      <td>0.279530</td>\n",
       "      <td>619.046001</td>\n",
       "      <td>1.1380</td>\n",
       "    </tr>\n",
       "    <tr>\n",
       "      <th>480</th>\n",
       "      <td>000001</td>\n",
       "      <td>2006-12-27</td>\n",
       "      <td>1.719</td>\n",
       "      <td>2.069</td>\n",
       "      <td>2.069</td>\n",
       "      <td>2.018</td>\n",
       "      <td>2.0404</td>\n",
       "      <td>0.018447</td>\n",
       "      <td>10.202</td>\n",
       "      <td>2.040</td>\n",
       "      <td>...</td>\n",
       "      <td>1.508600</td>\n",
       "      <td>0.250432</td>\n",
       "      <td>362.064</td>\n",
       "      <td>1.5790</td>\n",
       "      <td>2.069</td>\n",
       "      <td>0.979</td>\n",
       "      <td>1.291667</td>\n",
       "      <td>0.281669</td>\n",
       "      <td>620.000001</td>\n",
       "      <td>1.1385</td>\n",
       "    </tr>\n",
       "    <tr>\n",
       "      <th>481</th>\n",
       "      <td>000001</td>\n",
       "      <td>2006-12-28</td>\n",
       "      <td>1.711</td>\n",
       "      <td>2.061</td>\n",
       "      <td>2.069</td>\n",
       "      <td>2.018</td>\n",
       "      <td>2.0458</td>\n",
       "      <td>0.019993</td>\n",
       "      <td>10.229</td>\n",
       "      <td>2.041</td>\n",
       "      <td>...</td>\n",
       "      <td>1.512692</td>\n",
       "      <td>0.251404</td>\n",
       "      <td>363.046</td>\n",
       "      <td>1.5800</td>\n",
       "      <td>2.069</td>\n",
       "      <td>0.979</td>\n",
       "      <td>1.293631</td>\n",
       "      <td>0.283736</td>\n",
       "      <td>620.943001</td>\n",
       "      <td>1.1395</td>\n",
       "    </tr>\n",
       "    <tr>\n",
       "      <th>482</th>\n",
       "      <td>000001</td>\n",
       "      <td>2006-12-29</td>\n",
       "      <td>1.753</td>\n",
       "      <td>2.103</td>\n",
       "      <td>2.103</td>\n",
       "      <td>2.040</td>\n",
       "      <td>2.0628</td>\n",
       "      <td>0.025753</td>\n",
       "      <td>10.314</td>\n",
       "      <td>2.061</td>\n",
       "      <td>...</td>\n",
       "      <td>1.516888</td>\n",
       "      <td>0.252820</td>\n",
       "      <td>364.053</td>\n",
       "      <td>1.5815</td>\n",
       "      <td>2.103</td>\n",
       "      <td>0.979</td>\n",
       "      <td>1.295698</td>\n",
       "      <td>0.286007</td>\n",
       "      <td>621.935001</td>\n",
       "      <td>1.1405</td>\n",
       "    </tr>\n",
       "    <tr>\n",
       "      <th>483</th>\n",
       "      <td>000001</td>\n",
       "      <td>2007-01-04</td>\n",
       "      <td>1.753</td>\n",
       "      <td>2.103</td>\n",
       "      <td>2.103</td>\n",
       "      <td>2.040</td>\n",
       "      <td>2.0752</td>\n",
       "      <td>0.027499</td>\n",
       "      <td>10.376</td>\n",
       "      <td>2.069</td>\n",
       "      <td>...</td>\n",
       "      <td>1.521017</td>\n",
       "      <td>0.254268</td>\n",
       "      <td>365.044</td>\n",
       "      <td>1.5830</td>\n",
       "      <td>2.103</td>\n",
       "      <td>0.979</td>\n",
       "      <td>1.297769</td>\n",
       "      <td>0.288242</td>\n",
       "      <td>622.929001</td>\n",
       "      <td>1.1410</td>\n",
       "    </tr>\n",
       "  </tbody>\n",
       "</table>\n",
       "<p>5 rows × 40 columns</p>\n",
       "</div>"
      ],
      "text/plain": [
       "    instrument   datetime  $DWJZ  $LJJZ  max_5d  min_5d  mean_5d    std_5d  \\\n",
       "479     000001 2006-12-26  1.690  2.040   2.053   2.018   2.0372  0.012755   \n",
       "480     000001 2006-12-27  1.719  2.069   2.069   2.018   2.0404  0.018447   \n",
       "481     000001 2006-12-28  1.711  2.061   2.069   2.018   2.0458  0.019993   \n",
       "482     000001 2006-12-29  1.753  2.103   2.103   2.040   2.0628  0.025753   \n",
       "483     000001 2007-01-04  1.753  2.103   2.103   2.040   2.0752  0.027499   \n",
       "\n",
       "     sum_5d  median_5d  ...  mean_240d  std_240d  sum_240d  median_240d  \\\n",
       "479  10.186      2.040  ...   1.504504  0.249264   361.081       1.5760   \n",
       "480  10.202      2.040  ...   1.508600  0.250432   362.064       1.5790   \n",
       "481  10.229      2.041  ...   1.512692  0.251404   363.046       1.5800   \n",
       "482  10.314      2.061  ...   1.516888  0.252820   364.053       1.5815   \n",
       "483  10.376      2.069  ...   1.521017  0.254268   365.044       1.5830   \n",
       "\n",
       "     max_480d  min_480d  mean_480d  std_480d    sum_480d  median_480d  \n",
       "479     2.053     0.979   1.289679  0.279530  619.046001       1.1380  \n",
       "480     2.069     0.979   1.291667  0.281669  620.000001       1.1385  \n",
       "481     2.069     0.979   1.293631  0.283736  620.943001       1.1395  \n",
       "482     2.103     0.979   1.295698  0.286007  621.935001       1.1405  \n",
       "483     2.103     0.979   1.297769  0.288242  622.929001       1.1410  \n",
       "\n",
       "[5 rows x 40 columns]"
      ]
     },
     "execution_count": 156,
     "metadata": {},
     "output_type": "execute_result"
    }
   ],
   "source": [
    "df_no_label.head()"
   ]
  },
  {
   "cell_type": "markdown",
   "metadata": {},
   "source": [
    "创建label"
   ]
  },
  {
   "cell_type": "code",
   "execution_count": 157,
   "metadata": {},
   "outputs": [],
   "source": [
    "df_new[\"LJJZ_1d\"] = df_new.groupby(['instrument'])[\"$LJJZ\"].shift(-1)\n",
    "df_new[\"LJJZ_5d\"] = df_new.groupby(['instrument'])[\"$LJJZ\"].shift(-5)\n",
    "df_new[\"LJJZ_20d\"] = df_new.groupby(['instrument'])[\"$LJJZ\"].shift(-20)\n",
    "df_new[\"LJJZ_60d\"] = df_new.groupby(['instrument'])[\"$LJJZ\"].shift(-60)\n",
    "df_new[\"LJJZ_120d\"] = df_new.groupby(['instrument'])[\"$LJJZ\"].shift(-120)\n",
    "df_new[\"LJJZ_240d\"] = df_new.groupby(['instrument'])[\"$LJJZ\"].shift(-240)\n",
    "df_new[\"LJJZ_480d\"] = df_new.groupby(['instrument'])[\"$LJJZ\"].shift(-480)\n",
    "df_new = df_new.dropna()\n",
    "df_new.index = range(len(df_new))\n",
    "df_new[\"y_1d\"]=100 * (df_new[\"LJJZ_1d\"]- df_new[\"$LJJZ\"])/df_new[\"$LJJZ\"]\n",
    "df_new[\"y_5d\"]=100 * (df_new[\"LJJZ_5d\"]- df_new[\"$LJJZ\"])/df_new[\"$LJJZ\"]\n",
    "df_new[\"y_20d\"]=100 * (df_new[\"LJJZ_20d\"]- df_new[\"$LJJZ\"])/df_new[\"$LJJZ\"]\n",
    "df_new[\"y_60d\"]=100 * (df_new[\"LJJZ_60d\"]- df_new[\"$LJJZ\"])/df_new[\"$LJJZ\"]\n",
    "df_new[\"y_120d\"]=100 * (df_new[\"LJJZ_120d\"]- df_new[\"$LJJZ\"])/df_new[\"$LJJZ\"]\n",
    "df_new[\"y_240d\"]=100 * (df_new[\"LJJZ_240d\"]- df_new[\"$LJJZ\"])/df_new[\"$LJJZ\"]\n",
    "df_new[\"y_480d\"]=100 * (df_new[\"LJJZ_480d\"]- df_new[\"$LJJZ\"])/df_new[\"$LJJZ\"]\n",
    "df_new = df_new.drop(columns = ['LJJZ_1d','LJJZ_5d','LJJZ_20d','LJJZ_60d','LJJZ_120d','LJJZ_240d','LJJZ_480d'])"
   ]
  },
  {
   "cell_type": "code",
   "execution_count": 158,
   "metadata": {},
   "outputs": [],
   "source": [
    "df_new[\"LJJZ_20d\"] = df_new.groupby(['instrument'])[\"$LJJZ\"].shift(20)\n",
    "df_new[\"LJJZ_60d\"] = df_new.groupby(['instrument'])[\"$LJJZ\"].shift(60)\n",
    "df_new[\"LJJZ_120d\"] = df_new.groupby(['instrument'])[\"$LJJZ\"].shift(120)\n",
    "df_new[\"LJJZ_240d\"] = df_new.groupby(['instrument'])[\"$LJJZ\"].shift(240)\n",
    "df_new[\"LJJZ_480d\"] = df_new.groupby(['instrument'])[\"$LJJZ\"].shift(240)\n",
    "df_new = df_new.dropna()\n",
    "df_new.index = range(len(df_new))\n",
    "\n",
    "\n",
    "df_new[\"his_20d\"]=-100 * (df_new[\"LJJZ_20d\"]- df_new[\"$LJJZ\"])/df_new[\"LJJZ_20d\"]\n",
    "df_new[\"his_60d\"]=-100 * (df_new[\"LJJZ_60d\"]- df_new[\"$LJJZ\"])/df_new[\"LJJZ_60d\"]\n",
    "df_new[\"his_120d\"]=-100 * (df_new[\"LJJZ_120d\"]- df_new[\"$LJJZ\"])/df_new[\"LJJZ_120d\"]\n",
    "df_new[\"his_240d\"]=-100 * (df_new[\"LJJZ_240d\"]- df_new[\"$LJJZ\"])/df_new[\"LJJZ_240d\"]\n",
    "df_new[\"his_480d\"]=-100 * (df_new[\"LJJZ_480d\"]- df_new[\"$LJJZ\"])/df_new[\"LJJZ_480d\"]\n",
    "df_new = df_new.drop(columns = ['LJJZ_20d','LJJZ_60d','LJJZ_120d','LJJZ_240d','LJJZ_480d'])"
   ]
  },
  {
   "cell_type": "code",
   "execution_count": 159,
   "metadata": {},
   "outputs": [
    {
     "data": {
      "text/plain": [
       "(1858429, 52)"
      ]
     },
     "execution_count": 159,
     "metadata": {},
     "output_type": "execute_result"
    }
   ],
   "source": [
    "df_new.shape"
   ]
  },
  {
   "cell_type": "code",
   "execution_count": 160,
   "metadata": {},
   "outputs": [
    {
     "data": {
      "text/html": [
       "<div>\n",
       "<style scoped>\n",
       "    .dataframe tbody tr th:only-of-type {\n",
       "        vertical-align: middle;\n",
       "    }\n",
       "\n",
       "    .dataframe tbody tr th {\n",
       "        vertical-align: top;\n",
       "    }\n",
       "\n",
       "    .dataframe thead th {\n",
       "        text-align: right;\n",
       "    }\n",
       "</style>\n",
       "<table border=\"1\" class=\"dataframe\">\n",
       "  <thead>\n",
       "    <tr style=\"text-align: right;\">\n",
       "      <th></th>\n",
       "      <th>instrument</th>\n",
       "      <th>datetime</th>\n",
       "      <th>$DWJZ</th>\n",
       "      <th>$LJJZ</th>\n",
       "      <th>max_5d</th>\n",
       "      <th>min_5d</th>\n",
       "      <th>mean_5d</th>\n",
       "      <th>std_5d</th>\n",
       "      <th>sum_5d</th>\n",
       "      <th>median_5d</th>\n",
       "      <th>...</th>\n",
       "      <th>y_20d</th>\n",
       "      <th>y_60d</th>\n",
       "      <th>y_120d</th>\n",
       "      <th>y_240d</th>\n",
       "      <th>y_480d</th>\n",
       "      <th>his_20d</th>\n",
       "      <th>his_60d</th>\n",
       "      <th>his_120d</th>\n",
       "      <th>his_240d</th>\n",
       "      <th>his_480d</th>\n",
       "    </tr>\n",
       "  </thead>\n",
       "  <tbody>\n",
       "    <tr>\n",
       "      <th>0</th>\n",
       "      <td>000001</td>\n",
       "      <td>2007-12-21</td>\n",
       "      <td>2.110</td>\n",
       "      <td>3.291</td>\n",
       "      <td>3.291</td>\n",
       "      <td>3.213</td>\n",
       "      <td>3.2452</td>\n",
       "      <td>0.030720</td>\n",
       "      <td>16.226</td>\n",
       "      <td>3.234</td>\n",
       "      <td>...</td>\n",
       "      <td>-0.395010</td>\n",
       "      <td>-5.226373</td>\n",
       "      <td>-12.792464</td>\n",
       "      <td>-19.598907</td>\n",
       "      <td>-0.577327</td>\n",
       "      <td>3.948200</td>\n",
       "      <td>-2.053572</td>\n",
       "      <td>18.338728</td>\n",
       "      <td>61.323524</td>\n",
       "      <td>61.323524</td>\n",
       "    </tr>\n",
       "    <tr>\n",
       "      <th>1</th>\n",
       "      <td>000001</td>\n",
       "      <td>2007-12-24</td>\n",
       "      <td>2.143</td>\n",
       "      <td>3.324</td>\n",
       "      <td>3.324</td>\n",
       "      <td>3.213</td>\n",
       "      <td>3.2644</td>\n",
       "      <td>0.044286</td>\n",
       "      <td>16.322</td>\n",
       "      <td>3.260</td>\n",
       "      <td>...</td>\n",
       "      <td>1.293629</td>\n",
       "      <td>-6.046931</td>\n",
       "      <td>-12.966306</td>\n",
       "      <td>-20.186516</td>\n",
       "      <td>-1.534292</td>\n",
       "      <td>5.123338</td>\n",
       "      <td>-1.100868</td>\n",
       "      <td>19.740629</td>\n",
       "      <td>60.657314</td>\n",
       "      <td>60.657314</td>\n",
       "    </tr>\n",
       "    <tr>\n",
       "      <th>2</th>\n",
       "      <td>000001</td>\n",
       "      <td>2007-12-25</td>\n",
       "      <td>2.152</td>\n",
       "      <td>3.333</td>\n",
       "      <td>3.333</td>\n",
       "      <td>3.234</td>\n",
       "      <td>3.2884</td>\n",
       "      <td>0.041920</td>\n",
       "      <td>16.442</td>\n",
       "      <td>3.291</td>\n",
       "      <td>...</td>\n",
       "      <td>1.830186</td>\n",
       "      <td>-7.140712</td>\n",
       "      <td>-12.061206</td>\n",
       "      <td>-20.102005</td>\n",
       "      <td>-1.890188</td>\n",
       "      <td>6.146492</td>\n",
       "      <td>-0.685340</td>\n",
       "      <td>18.993210</td>\n",
       "      <td>61.717602</td>\n",
       "      <td>61.717602</td>\n",
       "    </tr>\n",
       "    <tr>\n",
       "      <th>3</th>\n",
       "      <td>000001</td>\n",
       "      <td>2007-12-26</td>\n",
       "      <td>2.174</td>\n",
       "      <td>3.355</td>\n",
       "      <td>3.355</td>\n",
       "      <td>3.260</td>\n",
       "      <td>3.3126</td>\n",
       "      <td>0.037340</td>\n",
       "      <td>16.563</td>\n",
       "      <td>3.324</td>\n",
       "      <td>...</td>\n",
       "      <td>1.758570</td>\n",
       "      <td>-6.497763</td>\n",
       "      <td>-12.339791</td>\n",
       "      <td>-20.417286</td>\n",
       "      <td>-2.742176</td>\n",
       "      <td>7.670093</td>\n",
       "      <td>0.569546</td>\n",
       "      <td>20.423546</td>\n",
       "      <td>59.534008</td>\n",
       "      <td>59.534008</td>\n",
       "    </tr>\n",
       "    <tr>\n",
       "      <th>4</th>\n",
       "      <td>000001</td>\n",
       "      <td>2007-12-27</td>\n",
       "      <td>2.211</td>\n",
       "      <td>3.392</td>\n",
       "      <td>3.392</td>\n",
       "      <td>3.291</td>\n",
       "      <td>3.3390</td>\n",
       "      <td>0.037517</td>\n",
       "      <td>16.695</td>\n",
       "      <td>3.333</td>\n",
       "      <td>...</td>\n",
       "      <td>-1.562499</td>\n",
       "      <td>-8.549527</td>\n",
       "      <td>-14.327832</td>\n",
       "      <td>-21.521227</td>\n",
       "      <td>-3.891509</td>\n",
       "      <td>7.070706</td>\n",
       "      <td>0.952383</td>\n",
       "      <td>24.477066</td>\n",
       "      <td>61.293396</td>\n",
       "      <td>61.293396</td>\n",
       "    </tr>\n",
       "  </tbody>\n",
       "</table>\n",
       "<p>5 rows × 52 columns</p>\n",
       "</div>"
      ],
      "text/plain": [
       "  instrument   datetime  $DWJZ  $LJJZ  max_5d  min_5d  mean_5d    std_5d  \\\n",
       "0     000001 2007-12-21  2.110  3.291   3.291   3.213   3.2452  0.030720   \n",
       "1     000001 2007-12-24  2.143  3.324   3.324   3.213   3.2644  0.044286   \n",
       "2     000001 2007-12-25  2.152  3.333   3.333   3.234   3.2884  0.041920   \n",
       "3     000001 2007-12-26  2.174  3.355   3.355   3.260   3.3126  0.037340   \n",
       "4     000001 2007-12-27  2.211  3.392   3.392   3.291   3.3390  0.037517   \n",
       "\n",
       "   sum_5d  median_5d  ...     y_20d     y_60d     y_120d     y_240d    y_480d  \\\n",
       "0  16.226      3.234  ... -0.395010 -5.226373 -12.792464 -19.598907 -0.577327   \n",
       "1  16.322      3.260  ...  1.293629 -6.046931 -12.966306 -20.186516 -1.534292   \n",
       "2  16.442      3.291  ...  1.830186 -7.140712 -12.061206 -20.102005 -1.890188   \n",
       "3  16.563      3.324  ...  1.758570 -6.497763 -12.339791 -20.417286 -2.742176   \n",
       "4  16.695      3.333  ... -1.562499 -8.549527 -14.327832 -21.521227 -3.891509   \n",
       "\n",
       "    his_20d   his_60d   his_120d   his_240d   his_480d  \n",
       "0  3.948200 -2.053572  18.338728  61.323524  61.323524  \n",
       "1  5.123338 -1.100868  19.740629  60.657314  60.657314  \n",
       "2  6.146492 -0.685340  18.993210  61.717602  61.717602  \n",
       "3  7.670093  0.569546  20.423546  59.534008  59.534008  \n",
       "4  7.070706  0.952383  24.477066  61.293396  61.293396  \n",
       "\n",
       "[5 rows x 52 columns]"
      ]
     },
     "execution_count": 160,
     "metadata": {},
     "output_type": "execute_result"
    }
   ],
   "source": [
    "df_new.head()"
   ]
  },
  {
   "cell_type": "code",
   "execution_count": 161,
   "metadata": {},
   "outputs": [
    {
     "data": {
      "text/plain": [
       "Index(['instrument', 'datetime', '$DWJZ', '$LJJZ', 'max_5d', 'min_5d',\n",
       "       'mean_5d', 'std_5d', 'sum_5d', 'median_5d', 'max_20d', 'min_20d',\n",
       "       'mean_20d', 'std_20d', 'sum_20d', 'median_20d', 'max_60d', 'min_60d',\n",
       "       'mean_60d', 'std_60d', 'sum_60d', 'median_60d', 'max_120d', 'min_120d',\n",
       "       'mean_120d', 'std_120d', 'sum_120d', 'median_120d', 'max_240d',\n",
       "       'min_240d', 'mean_240d', 'std_240d', 'sum_240d', 'median_240d',\n",
       "       'max_480d', 'min_480d', 'mean_480d', 'std_480d', 'sum_480d',\n",
       "       'median_480d', 'y_1d', 'y_5d', 'y_20d', 'y_60d', 'y_120d', 'y_240d',\n",
       "       'y_480d', 'his_20d', 'his_60d', 'his_120d', 'his_240d', 'his_480d'],\n",
       "      dtype='object')"
      ]
     },
     "execution_count": 161,
     "metadata": {},
     "output_type": "execute_result"
    }
   ],
   "source": [
    "df_new.columns"
   ]
  },
  {
   "cell_type": "code",
   "execution_count": 200,
   "metadata": {},
   "outputs": [],
   "source": [
    "df_new[\"rank_20d\"] = df_new.groupby(['datetime'])[\"his_20d\"].rank(method='min',ascending=False)\n",
    "df_new[\"rank_60d\"] = df_new.groupby(['datetime'])[\"his_60d\"].rank(method='min',ascending=False)\n",
    "df_new[\"rank_120d\"] = df_new.groupby(['datetime'])[\"his_120d\"].rank(method='min',ascending=False)\n",
    "df_new[\"rank_240d\"] = df_new.groupby(['datetime'])[\"his_240d\"].rank(method='min',ascending=False)\n",
    "df_new[\"rank_480d\"] = df_new.groupby(['datetime'])[\"his_480d\"].rank(method='min',ascending=False)\n",
    "df_new = df_new.dropna()\n",
    "df_new.index = range(len(df_new))"
   ]
  },
  {
   "cell_type": "code",
   "execution_count": 212,
   "metadata": {},
   "outputs": [
    {
     "data": {
      "text/html": [
       "<div>\n",
       "<style scoped>\n",
       "    .dataframe tbody tr th:only-of-type {\n",
       "        vertical-align: middle;\n",
       "    }\n",
       "\n",
       "    .dataframe tbody tr th {\n",
       "        vertical-align: top;\n",
       "    }\n",
       "\n",
       "    .dataframe thead th {\n",
       "        text-align: right;\n",
       "    }\n",
       "</style>\n",
       "<table border=\"1\" class=\"dataframe\">\n",
       "  <thead>\n",
       "    <tr style=\"text-align: right;\">\n",
       "      <th></th>\n",
       "      <th>instrument</th>\n",
       "      <th>datetime</th>\n",
       "      <th>rank_20d</th>\n",
       "      <th>his_20d</th>\n",
       "    </tr>\n",
       "  </thead>\n",
       "  <tbody>\n",
       "    <tr>\n",
       "      <th>2760</th>\n",
       "      <td>000001</td>\n",
       "      <td>2019-04-29</td>\n",
       "      <td>680.0</td>\n",
       "      <td>0.028199</td>\n",
       "    </tr>\n",
       "    <tr>\n",
       "      <th>3506</th>\n",
       "      <td>000003</td>\n",
       "      <td>2019-04-29</td>\n",
       "      <td>2365.0</td>\n",
       "      <td>-4.387759</td>\n",
       "    </tr>\n",
       "    <tr>\n",
       "      <th>4252</th>\n",
       "      <td>000004</td>\n",
       "      <td>2019-04-29</td>\n",
       "      <td>2365.0</td>\n",
       "      <td>-4.387759</td>\n",
       "    </tr>\n",
       "    <tr>\n",
       "      <th>4997</th>\n",
       "      <td>000008</td>\n",
       "      <td>2019-04-29</td>\n",
       "      <td>2392.0</td>\n",
       "      <td>-4.565740</td>\n",
       "    </tr>\n",
       "    <tr>\n",
       "      <th>7766</th>\n",
       "      <td>000011</td>\n",
       "      <td>2019-04-29</td>\n",
       "      <td>664.0</td>\n",
       "      <td>0.055028</td>\n",
       "    </tr>\n",
       "    <tr>\n",
       "      <th>...</th>\n",
       "      <td>...</td>\n",
       "      <td>...</td>\n",
       "      <td>...</td>\n",
       "      <td>...</td>\n",
       "    </tr>\n",
       "    <tr>\n",
       "      <th>1854960</th>\n",
       "      <td>750002</td>\n",
       "      <td>2019-04-29</td>\n",
       "      <td>1089.0</td>\n",
       "      <td>-0.352360</td>\n",
       "    </tr>\n",
       "    <tr>\n",
       "      <th>1855834</th>\n",
       "      <td>750003</td>\n",
       "      <td>2019-04-29</td>\n",
       "      <td>1184.0</td>\n",
       "      <td>-0.433520</td>\n",
       "    </tr>\n",
       "    <tr>\n",
       "      <th>1856661</th>\n",
       "      <td>750005</td>\n",
       "      <td>2019-04-29</td>\n",
       "      <td>369.0</td>\n",
       "      <td>0.844952</td>\n",
       "    </tr>\n",
       "    <tr>\n",
       "      <th>1857548</th>\n",
       "      <td>762001</td>\n",
       "      <td>2019-04-29</td>\n",
       "      <td>355.0</td>\n",
       "      <td>0.924260</td>\n",
       "    </tr>\n",
       "    <tr>\n",
       "      <th>1858420</th>\n",
       "      <td>770001</td>\n",
       "      <td>2019-04-29</td>\n",
       "      <td>746.0</td>\n",
       "      <td>-0.033075</td>\n",
       "    </tr>\n",
       "  </tbody>\n",
       "</table>\n",
       "<p>2560 rows × 4 columns</p>\n",
       "</div>"
      ],
      "text/plain": [
       "        instrument   datetime  rank_20d   his_20d\n",
       "2760        000001 2019-04-29     680.0  0.028199\n",
       "3506        000003 2019-04-29    2365.0 -4.387759\n",
       "4252        000004 2019-04-29    2365.0 -4.387759\n",
       "4997        000008 2019-04-29    2392.0 -4.565740\n",
       "7766        000011 2019-04-29     664.0  0.055028\n",
       "...            ...        ...       ...       ...\n",
       "1854960     750002 2019-04-29    1089.0 -0.352360\n",
       "1855834     750003 2019-04-29    1184.0 -0.433520\n",
       "1856661     750005 2019-04-29     369.0  0.844952\n",
       "1857548     762001 2019-04-29     355.0  0.924260\n",
       "1858420     770001 2019-04-29     746.0 -0.033075\n",
       "\n",
       "[2560 rows x 4 columns]"
      ]
     },
     "execution_count": 212,
     "metadata": {},
     "output_type": "execute_result"
    }
   ],
   "source": [
    "st = '2019-04-29 00:00:00'\n",
    "dt = datetime.datetime.strptime(st, \"%Y-%m-%d %H:%M:%S\")\n",
    "df_new[df_new['datetime']==dt][['instrument','datetime','rank_20d','his_20d']]"
   ]
  },
  {
   "cell_type": "markdown",
   "metadata": {},
   "source": [
    "# 历史业绩和未来业绩的关系"
   ]
  },
  {
   "cell_type": "markdown",
   "metadata": {},
   "source": [
    "## 最近60天最好的基金，未来240天涨幅平均为"
   ]
  },
  {
   "cell_type": "code",
   "execution_count": 226,
   "metadata": {},
   "outputs": [],
   "source": [
    "st = '2016-01-01 00:00:00'\n",
    "dt = datetime.datetime.strptime(st, \"%Y-%m-%d %H:%M:%S\")"
   ]
  },
  {
   "cell_type": "code",
   "execution_count": 227,
   "metadata": {},
   "outputs": [
    {
     "data": {
      "text/plain": [
       "4.7507873"
      ]
     },
     "execution_count": 227,
     "metadata": {},
     "output_type": "execute_result"
    }
   ],
   "source": [
    "np.mean(df_new[(df_new['rank_60d']==1.0)&(df_new['datetime']>dt)]['y_240d'])"
   ]
  },
  {
   "cell_type": "code",
   "execution_count": 228,
   "metadata": {},
   "outputs": [
    {
     "data": {
      "text/plain": [
       "1.5368642"
      ]
     },
     "execution_count": 228,
     "metadata": {},
     "output_type": "execute_result"
    }
   ],
   "source": [
    "np.mean(df_new[(df_new['rank_60d']==1.0)&(df_new['datetime']>dt)]['y_120d'])"
   ]
  },
  {
   "cell_type": "code",
   "execution_count": 229,
   "metadata": {},
   "outputs": [
    {
     "data": {
      "text/plain": [
       "-0.5927418"
      ]
     },
     "execution_count": 229,
     "metadata": {},
     "output_type": "execute_result"
    }
   ],
   "source": [
    "np.mean(df_new[(df_new['rank_60d']==1.0)&(df_new['datetime']>dt)]['y_60d'])"
   ]
  },
  {
   "cell_type": "markdown",
   "metadata": {},
   "source": [
    "### 最近120天最好的基金，未来240天涨幅平均为"
   ]
  },
  {
   "cell_type": "code",
   "execution_count": 230,
   "metadata": {},
   "outputs": [
    {
     "data": {
      "text/plain": [
       "-0.1344907"
      ]
     },
     "execution_count": 230,
     "metadata": {},
     "output_type": "execute_result"
    }
   ],
   "source": [
    "np.mean(df_new[(df_new['rank_120d']==1.0)&(df_new['datetime']>dt)]['y_240d'])"
   ]
  },
  {
   "cell_type": "code",
   "execution_count": 231,
   "metadata": {},
   "outputs": [
    {
     "data": {
      "text/plain": [
       "-0.5726641"
      ]
     },
     "execution_count": 231,
     "metadata": {},
     "output_type": "execute_result"
    }
   ],
   "source": [
    "np.mean(df_new[(df_new['rank_120d']==1.0)&(df_new['datetime']>dt)]['y_120d'])"
   ]
  },
  {
   "cell_type": "code",
   "execution_count": 232,
   "metadata": {},
   "outputs": [
    {
     "data": {
      "text/plain": [
       "-1.3292818"
      ]
     },
     "execution_count": 232,
     "metadata": {},
     "output_type": "execute_result"
    }
   ],
   "source": [
    "np.mean(df_new[(df_new['rank_120d']==1.0)&(df_new['datetime']>dt)]['y_60d'])"
   ]
  },
  {
   "cell_type": "markdown",
   "metadata": {},
   "source": [
    "## 最近240天最好的基金，未来240天涨幅平均为\n"
   ]
  },
  {
   "cell_type": "code",
   "execution_count": 233,
   "metadata": {},
   "outputs": [
    {
     "data": {
      "text/plain": [
       "8.646881"
      ]
     },
     "execution_count": 233,
     "metadata": {},
     "output_type": "execute_result"
    }
   ],
   "source": [
    "np.mean(df_new[df_new['rank_240d']==1.0]['y_240d'])"
   ]
  },
  {
   "cell_type": "code",
   "execution_count": 234,
   "metadata": {},
   "outputs": [
    {
     "data": {
      "text/plain": [
       "7.904129"
      ]
     },
     "execution_count": 234,
     "metadata": {},
     "output_type": "execute_result"
    }
   ],
   "source": [
    "np.mean(df_new[df_new['rank_240d']==2.0]['y_240d'])"
   ]
  },
  {
   "cell_type": "code",
   "execution_count": 235,
   "metadata": {},
   "outputs": [
    {
     "data": {
      "text/plain": [
       "4.881589"
      ]
     },
     "execution_count": 235,
     "metadata": {},
     "output_type": "execute_result"
    }
   ],
   "source": [
    "np.mean(df_new[df_new['rank_240d']==3.0]['y_240d'])"
   ]
  },
  {
   "cell_type": "code",
   "execution_count": 236,
   "metadata": {},
   "outputs": [
    {
     "data": {
      "text/plain": [
       "7.839954"
      ]
     },
     "execution_count": 236,
     "metadata": {},
     "output_type": "execute_result"
    }
   ],
   "source": [
    "np.mean(df_new[df_new['rank_240d']==1500.0]['y_240d'])"
   ]
  },
  {
   "cell_type": "code",
   "execution_count": 237,
   "metadata": {},
   "outputs": [
    {
     "data": {
      "text/plain": [
       "9.515042"
      ]
     },
     "execution_count": 237,
     "metadata": {},
     "output_type": "execute_result"
    }
   ],
   "source": [
    "np.mean(df_new[df_new['rank_240d']==60.0]['y_240d'])"
   ]
  },
  {
   "cell_type": "markdown",
   "metadata": {},
   "source": [
    "# 把几个时期综合排名最低的基金挑选出来"
   ]
  },
  {
   "cell_type": "code",
   "execution_count": 238,
   "metadata": {},
   "outputs": [],
   "source": [
    "df_new[\"average_rank\"] = df_new[\"rank_20d\"] + df_new[\"rank_60d\"] + df_new[\"rank_120d\"] + df_new[\"rank_240d\"] + df_new[\"rank_480d\"]\n",
    "df_new[\"rank_of_average_rank\"] = df_new.groupby(['datetime'])[\"average_rank\"].rank(method='min')\n",
    "df_new = df_new.dropna()\n",
    "df_new.index = range(len(df_new))"
   ]
  },
  {
   "cell_type": "code",
   "execution_count": 239,
   "metadata": {},
   "outputs": [
    {
     "data": {
      "text/plain": [
       "9.577209"
      ]
     },
     "execution_count": 239,
     "metadata": {},
     "output_type": "execute_result"
    }
   ],
   "source": [
    "np.mean(df_new[df_new['rank_of_average_rank']==1.0]['y_240d'])"
   ]
  },
  {
   "cell_type": "code",
   "execution_count": 240,
   "metadata": {},
   "outputs": [
    {
     "data": {
      "text/plain": [
       "7.4145055"
      ]
     },
     "execution_count": 240,
     "metadata": {},
     "output_type": "execute_result"
    }
   ],
   "source": [
    "np.mean(df_new[df_new['rank_of_average_rank']==100.0]['y_240d'])"
   ]
  },
  {
   "cell_type": "code",
   "execution_count": 241,
   "metadata": {},
   "outputs": [
    {
     "data": {
      "text/plain": [
       "7.502192"
      ]
     },
     "execution_count": 241,
     "metadata": {},
     "output_type": "execute_result"
    }
   ],
   "source": [
    "np.mean(df_new[df_new['rank_of_average_rank']==101.0]['y_240d'])"
   ]
  },
  {
   "cell_type": "code",
   "execution_count": 242,
   "metadata": {},
   "outputs": [
    {
     "data": {
      "text/plain": [
       "4.5252967"
      ]
     },
     "execution_count": 242,
     "metadata": {},
     "output_type": "execute_result"
    }
   ],
   "source": [
    "np.mean(df_new[df_new['rank_of_average_rank']==1000.0]['y_240d'])"
   ]
  },
  {
   "cell_type": "code",
   "execution_count": 245,
   "metadata": {},
   "outputs": [],
   "source": [
    "st = '2020-04-29 00:00:00'\n",
    "dt = datetime.datetime.strptime(st, \"%Y-%m-%d %H:%M:%S\")\n"
   ]
  },
  {
   "cell_type": "code",
   "execution_count": 248,
   "metadata": {},
   "outputs": [
    {
     "data": {
      "text/html": [
       "<div>\n",
       "<style scoped>\n",
       "    .dataframe tbody tr th:only-of-type {\n",
       "        vertical-align: middle;\n",
       "    }\n",
       "\n",
       "    .dataframe tbody tr th {\n",
       "        vertical-align: top;\n",
       "    }\n",
       "\n",
       "    .dataframe thead th {\n",
       "        text-align: right;\n",
       "    }\n",
       "</style>\n",
       "<table border=\"1\" class=\"dataframe\">\n",
       "  <thead>\n",
       "    <tr style=\"text-align: right;\">\n",
       "      <th></th>\n",
       "      <th>instrument</th>\n",
       "      <th>datetime</th>\n",
       "      <th>$DWJZ</th>\n",
       "      <th>$LJJZ</th>\n",
       "      <th>max_5d</th>\n",
       "      <th>min_5d</th>\n",
       "      <th>mean_5d</th>\n",
       "      <th>std_5d</th>\n",
       "      <th>sum_5d</th>\n",
       "      <th>median_5d</th>\n",
       "      <th>...</th>\n",
       "      <th>his_120d</th>\n",
       "      <th>his_240d</th>\n",
       "      <th>his_480d</th>\n",
       "      <th>rank_20d</th>\n",
       "      <th>rank_60d</th>\n",
       "      <th>rank_120d</th>\n",
       "      <th>rank_240d</th>\n",
       "      <th>rank_480d</th>\n",
       "      <th>average_rank</th>\n",
       "      <th>rank_of_average_rank</th>\n",
       "    </tr>\n",
       "  </thead>\n",
       "  <tbody>\n",
       "    <tr>\n",
       "      <th>0</th>\n",
       "      <td>000001</td>\n",
       "      <td>2007-12-21</td>\n",
       "      <td>2.110</td>\n",
       "      <td>3.291</td>\n",
       "      <td>3.291</td>\n",
       "      <td>3.213</td>\n",
       "      <td>3.2452</td>\n",
       "      <td>0.030720</td>\n",
       "      <td>16.226</td>\n",
       "      <td>3.234</td>\n",
       "      <td>...</td>\n",
       "      <td>18.338728</td>\n",
       "      <td>61.323524</td>\n",
       "      <td>61.323524</td>\n",
       "      <td>2.0</td>\n",
       "      <td>2.0</td>\n",
       "      <td>2.0</td>\n",
       "      <td>2.0</td>\n",
       "      <td>2.0</td>\n",
       "      <td>10.0</td>\n",
       "      <td>2.0</td>\n",
       "    </tr>\n",
       "    <tr>\n",
       "      <th>1</th>\n",
       "      <td>000001</td>\n",
       "      <td>2007-12-24</td>\n",
       "      <td>2.143</td>\n",
       "      <td>3.324</td>\n",
       "      <td>3.324</td>\n",
       "      <td>3.213</td>\n",
       "      <td>3.2644</td>\n",
       "      <td>0.044286</td>\n",
       "      <td>16.322</td>\n",
       "      <td>3.260</td>\n",
       "      <td>...</td>\n",
       "      <td>19.740629</td>\n",
       "      <td>60.657314</td>\n",
       "      <td>60.657314</td>\n",
       "      <td>2.0</td>\n",
       "      <td>2.0</td>\n",
       "      <td>2.0</td>\n",
       "      <td>2.0</td>\n",
       "      <td>2.0</td>\n",
       "      <td>10.0</td>\n",
       "      <td>2.0</td>\n",
       "    </tr>\n",
       "    <tr>\n",
       "      <th>2</th>\n",
       "      <td>000001</td>\n",
       "      <td>2007-12-25</td>\n",
       "      <td>2.152</td>\n",
       "      <td>3.333</td>\n",
       "      <td>3.333</td>\n",
       "      <td>3.234</td>\n",
       "      <td>3.2884</td>\n",
       "      <td>0.041920</td>\n",
       "      <td>16.442</td>\n",
       "      <td>3.291</td>\n",
       "      <td>...</td>\n",
       "      <td>18.993210</td>\n",
       "      <td>61.717602</td>\n",
       "      <td>61.717602</td>\n",
       "      <td>2.0</td>\n",
       "      <td>2.0</td>\n",
       "      <td>2.0</td>\n",
       "      <td>2.0</td>\n",
       "      <td>2.0</td>\n",
       "      <td>10.0</td>\n",
       "      <td>2.0</td>\n",
       "    </tr>\n",
       "    <tr>\n",
       "      <th>3</th>\n",
       "      <td>000001</td>\n",
       "      <td>2007-12-26</td>\n",
       "      <td>2.174</td>\n",
       "      <td>3.355</td>\n",
       "      <td>3.355</td>\n",
       "      <td>3.260</td>\n",
       "      <td>3.3126</td>\n",
       "      <td>0.037340</td>\n",
       "      <td>16.563</td>\n",
       "      <td>3.324</td>\n",
       "      <td>...</td>\n",
       "      <td>20.423546</td>\n",
       "      <td>59.534008</td>\n",
       "      <td>59.534008</td>\n",
       "      <td>2.0</td>\n",
       "      <td>2.0</td>\n",
       "      <td>2.0</td>\n",
       "      <td>2.0</td>\n",
       "      <td>2.0</td>\n",
       "      <td>10.0</td>\n",
       "      <td>2.0</td>\n",
       "    </tr>\n",
       "    <tr>\n",
       "      <th>4</th>\n",
       "      <td>000001</td>\n",
       "      <td>2007-12-27</td>\n",
       "      <td>2.211</td>\n",
       "      <td>3.392</td>\n",
       "      <td>3.392</td>\n",
       "      <td>3.291</td>\n",
       "      <td>3.3390</td>\n",
       "      <td>0.037517</td>\n",
       "      <td>16.695</td>\n",
       "      <td>3.333</td>\n",
       "      <td>...</td>\n",
       "      <td>24.477066</td>\n",
       "      <td>61.293396</td>\n",
       "      <td>61.293396</td>\n",
       "      <td>2.0</td>\n",
       "      <td>2.0</td>\n",
       "      <td>2.0</td>\n",
       "      <td>2.0</td>\n",
       "      <td>2.0</td>\n",
       "      <td>10.0</td>\n",
       "      <td>2.0</td>\n",
       "    </tr>\n",
       "  </tbody>\n",
       "</table>\n",
       "<p>5 rows × 59 columns</p>\n",
       "</div>"
      ],
      "text/plain": [
       "  instrument   datetime  $DWJZ  $LJJZ  max_5d  min_5d  mean_5d    std_5d  \\\n",
       "0     000001 2007-12-21  2.110  3.291   3.291   3.213   3.2452  0.030720   \n",
       "1     000001 2007-12-24  2.143  3.324   3.324   3.213   3.2644  0.044286   \n",
       "2     000001 2007-12-25  2.152  3.333   3.333   3.234   3.2884  0.041920   \n",
       "3     000001 2007-12-26  2.174  3.355   3.355   3.260   3.3126  0.037340   \n",
       "4     000001 2007-12-27  2.211  3.392   3.392   3.291   3.3390  0.037517   \n",
       "\n",
       "   sum_5d  median_5d  ...   his_120d   his_240d   his_480d  rank_20d  \\\n",
       "0  16.226      3.234  ...  18.338728  61.323524  61.323524       2.0   \n",
       "1  16.322      3.260  ...  19.740629  60.657314  60.657314       2.0   \n",
       "2  16.442      3.291  ...  18.993210  61.717602  61.717602       2.0   \n",
       "3  16.563      3.324  ...  20.423546  59.534008  59.534008       2.0   \n",
       "4  16.695      3.333  ...  24.477066  61.293396  61.293396       2.0   \n",
       "\n",
       "   rank_60d  rank_120d  rank_240d  rank_480d  average_rank  \\\n",
       "0       2.0        2.0        2.0        2.0          10.0   \n",
       "1       2.0        2.0        2.0        2.0          10.0   \n",
       "2       2.0        2.0        2.0        2.0          10.0   \n",
       "3       2.0        2.0        2.0        2.0          10.0   \n",
       "4       2.0        2.0        2.0        2.0          10.0   \n",
       "\n",
       "   rank_of_average_rank  \n",
       "0                   2.0  \n",
       "1                   2.0  \n",
       "2                   2.0  \n",
       "3                   2.0  \n",
       "4                   2.0  \n",
       "\n",
       "[5 rows x 59 columns]"
      ]
     },
     "execution_count": 248,
     "metadata": {},
     "output_type": "execute_result"
    }
   ],
   "source": [
    "df_new.head()"
   ]
  },
  {
   "cell_type": "code",
   "execution_count": 250,
   "metadata": {},
   "outputs": [
    {
     "data": {
      "text/html": [
       "<div>\n",
       "<style scoped>\n",
       "    .dataframe tbody tr th:only-of-type {\n",
       "        vertical-align: middle;\n",
       "    }\n",
       "\n",
       "    .dataframe tbody tr th {\n",
       "        vertical-align: top;\n",
       "    }\n",
       "\n",
       "    .dataframe thead th {\n",
       "        text-align: right;\n",
       "    }\n",
       "</style>\n",
       "<table border=\"1\" class=\"dataframe\">\n",
       "  <thead>\n",
       "    <tr style=\"text-align: right;\">\n",
       "      <th></th>\n",
       "      <th>instrument</th>\n",
       "      <th>datetime</th>\n",
       "      <th>$DWJZ</th>\n",
       "      <th>$LJJZ</th>\n",
       "      <th>max_5d</th>\n",
       "      <th>min_5d</th>\n",
       "      <th>mean_5d</th>\n",
       "      <th>std_5d</th>\n",
       "      <th>sum_5d</th>\n",
       "      <th>median_5d</th>\n",
       "      <th>...</th>\n",
       "      <th>his_120d</th>\n",
       "      <th>his_240d</th>\n",
       "      <th>his_480d</th>\n",
       "      <th>rank_20d</th>\n",
       "      <th>rank_60d</th>\n",
       "      <th>rank_120d</th>\n",
       "      <th>rank_240d</th>\n",
       "      <th>rank_480d</th>\n",
       "      <th>average_rank</th>\n",
       "      <th>rank_of_average_rank</th>\n",
       "    </tr>\n",
       "  </thead>\n",
       "  <tbody>\n",
       "    <tr>\n",
       "      <th>1858424</th>\n",
       "      <td>770001</td>\n",
       "      <td>2019-05-08</td>\n",
       "      <td>0.9680</td>\n",
       "      <td>1.7680</td>\n",
       "      <td>1.8193</td>\n",
       "      <td>1.7680</td>\n",
       "      <td>1.79090</td>\n",
       "      <td>0.023821</td>\n",
       "      <td>8.9545</td>\n",
       "      <td>1.7814</td>\n",
       "      <td>...</td>\n",
       "      <td>6.976467</td>\n",
       "      <td>-2.428258</td>\n",
       "      <td>-2.428258</td>\n",
       "      <td>1093.0</td>\n",
       "      <td>1293.0</td>\n",
       "      <td>1070.0</td>\n",
       "      <td>1397.0</td>\n",
       "      <td>1397.0</td>\n",
       "      <td>6250.0</td>\n",
       "      <td>1214.0</td>\n",
       "    </tr>\n",
       "    <tr>\n",
       "      <th>1858425</th>\n",
       "      <td>770001</td>\n",
       "      <td>2019-05-09</td>\n",
       "      <td>0.9445</td>\n",
       "      <td>1.7445</td>\n",
       "      <td>1.8193</td>\n",
       "      <td>1.7445</td>\n",
       "      <td>1.77712</td>\n",
       "      <td>0.027235</td>\n",
       "      <td>8.8856</td>\n",
       "      <td>1.7724</td>\n",
       "      <td>...</td>\n",
       "      <td>5.791388</td>\n",
       "      <td>-4.285085</td>\n",
       "      <td>-4.285085</td>\n",
       "      <td>1201.0</td>\n",
       "      <td>1368.0</td>\n",
       "      <td>1155.0</td>\n",
       "      <td>1479.0</td>\n",
       "      <td>1479.0</td>\n",
       "      <td>6682.0</td>\n",
       "      <td>1454.0</td>\n",
       "    </tr>\n",
       "    <tr>\n",
       "      <th>1858426</th>\n",
       "      <td>770001</td>\n",
       "      <td>2019-05-10</td>\n",
       "      <td>0.9790</td>\n",
       "      <td>1.7790</td>\n",
       "      <td>1.7814</td>\n",
       "      <td>1.7445</td>\n",
       "      <td>1.76906</td>\n",
       "      <td>0.014719</td>\n",
       "      <td>8.8453</td>\n",
       "      <td>1.7724</td>\n",
       "      <td>...</td>\n",
       "      <td>8.113042</td>\n",
       "      <td>-2.611262</td>\n",
       "      <td>-2.611262</td>\n",
       "      <td>1285.0</td>\n",
       "      <td>1358.0</td>\n",
       "      <td>1178.0</td>\n",
       "      <td>1468.0</td>\n",
       "      <td>1468.0</td>\n",
       "      <td>6757.0</td>\n",
       "      <td>1472.0</td>\n",
       "    </tr>\n",
       "    <tr>\n",
       "      <th>1858427</th>\n",
       "      <td>770001</td>\n",
       "      <td>2019-05-13</td>\n",
       "      <td>0.9676</td>\n",
       "      <td>1.7676</td>\n",
       "      <td>1.7814</td>\n",
       "      <td>1.7445</td>\n",
       "      <td>1.76810</td>\n",
       "      <td>0.014602</td>\n",
       "      <td>8.8405</td>\n",
       "      <td>1.7680</td>\n",
       "      <td>...</td>\n",
       "      <td>8.090260</td>\n",
       "      <td>-3.261821</td>\n",
       "      <td>-3.261821</td>\n",
       "      <td>1343.0</td>\n",
       "      <td>1340.0</td>\n",
       "      <td>1151.0</td>\n",
       "      <td>1515.0</td>\n",
       "      <td>1515.0</td>\n",
       "      <td>6864.0</td>\n",
       "      <td>1553.0</td>\n",
       "    </tr>\n",
       "    <tr>\n",
       "      <th>1858428</th>\n",
       "      <td>770001</td>\n",
       "      <td>2019-05-14</td>\n",
       "      <td>0.9631</td>\n",
       "      <td>1.7631</td>\n",
       "      <td>1.7790</td>\n",
       "      <td>1.7445</td>\n",
       "      <td>1.76444</td>\n",
       "      <td>0.012590</td>\n",
       "      <td>8.8222</td>\n",
       "      <td>1.7676</td>\n",
       "      <td>...</td>\n",
       "      <td>7.335929</td>\n",
       "      <td>-2.709410</td>\n",
       "      <td>-2.709410</td>\n",
       "      <td>1319.0</td>\n",
       "      <td>1315.0</td>\n",
       "      <td>1059.0</td>\n",
       "      <td>1451.0</td>\n",
       "      <td>1451.0</td>\n",
       "      <td>6595.0</td>\n",
       "      <td>1435.0</td>\n",
       "    </tr>\n",
       "  </tbody>\n",
       "</table>\n",
       "<p>5 rows × 59 columns</p>\n",
       "</div>"
      ],
      "text/plain": [
       "        instrument   datetime   $DWJZ   $LJJZ  max_5d  min_5d  mean_5d  \\\n",
       "1858424     770001 2019-05-08  0.9680  1.7680  1.8193  1.7680  1.79090   \n",
       "1858425     770001 2019-05-09  0.9445  1.7445  1.8193  1.7445  1.77712   \n",
       "1858426     770001 2019-05-10  0.9790  1.7790  1.7814  1.7445  1.76906   \n",
       "1858427     770001 2019-05-13  0.9676  1.7676  1.7814  1.7445  1.76810   \n",
       "1858428     770001 2019-05-14  0.9631  1.7631  1.7790  1.7445  1.76444   \n",
       "\n",
       "           std_5d  sum_5d  median_5d  ...  his_120d  his_240d  his_480d  \\\n",
       "1858424  0.023821  8.9545     1.7814  ...  6.976467 -2.428258 -2.428258   \n",
       "1858425  0.027235  8.8856     1.7724  ...  5.791388 -4.285085 -4.285085   \n",
       "1858426  0.014719  8.8453     1.7724  ...  8.113042 -2.611262 -2.611262   \n",
       "1858427  0.014602  8.8405     1.7680  ...  8.090260 -3.261821 -3.261821   \n",
       "1858428  0.012590  8.8222     1.7676  ...  7.335929 -2.709410 -2.709410   \n",
       "\n",
       "         rank_20d  rank_60d  rank_120d  rank_240d  rank_480d  average_rank  \\\n",
       "1858424    1093.0    1293.0     1070.0     1397.0     1397.0        6250.0   \n",
       "1858425    1201.0    1368.0     1155.0     1479.0     1479.0        6682.0   \n",
       "1858426    1285.0    1358.0     1178.0     1468.0     1468.0        6757.0   \n",
       "1858427    1343.0    1340.0     1151.0     1515.0     1515.0        6864.0   \n",
       "1858428    1319.0    1315.0     1059.0     1451.0     1451.0        6595.0   \n",
       "\n",
       "         rank_of_average_rank  \n",
       "1858424                1214.0  \n",
       "1858425                1454.0  \n",
       "1858426                1472.0  \n",
       "1858427                1553.0  \n",
       "1858428                1435.0  \n",
       "\n",
       "[5 rows x 59 columns]"
      ]
     },
     "execution_count": 250,
     "metadata": {},
     "output_type": "execute_result"
    }
   ],
   "source": [
    "df_new.tail()"
   ]
  },
  {
   "cell_type": "code",
   "execution_count": 244,
   "metadata": {},
   "outputs": [
    {
     "data": {
      "text/html": [
       "<div>\n",
       "<style scoped>\n",
       "    .dataframe tbody tr th:only-of-type {\n",
       "        vertical-align: middle;\n",
       "    }\n",
       "\n",
       "    .dataframe tbody tr th {\n",
       "        vertical-align: top;\n",
       "    }\n",
       "\n",
       "    .dataframe thead th {\n",
       "        text-align: right;\n",
       "    }\n",
       "</style>\n",
       "<table border=\"1\" class=\"dataframe\">\n",
       "  <thead>\n",
       "    <tr style=\"text-align: right;\">\n",
       "      <th></th>\n",
       "      <th>instrument</th>\n",
       "      <th>rank_of_average_rank</th>\n",
       "    </tr>\n",
       "  </thead>\n",
       "  <tbody>\n",
       "  </tbody>\n",
       "</table>\n",
       "</div>"
      ],
      "text/plain": [
       "Empty DataFrame\n",
       "Columns: [instrument, rank_of_average_rank]\n",
       "Index: []"
      ]
     },
     "execution_count": 244,
     "metadata": {},
     "output_type": "execute_result"
    }
   ],
   "source": [
    "\n",
    "df_new[(df_new['rank_of_average_rank']==1.0) & (df_new['datetime']==dt)][['instrument','rank_of_average_rank']]"
   ]
  },
  {
   "cell_type": "markdown",
   "metadata": {},
   "source": [
    "训练集和验证集分离"
   ]
  }
 ],
 "metadata": {
  "kernelspec": {
   "display_name": "Python 3",
   "language": "python",
   "name": "python3"
  },
  "language_info": {
   "codemirror_mode": {
    "name": "ipython",
    "version": 3
   },
   "file_extension": ".py",
   "mimetype": "text/x-python",
   "name": "python",
   "nbconvert_exporter": "python",
   "pygments_lexer": "ipython3",
   "version": "3.7.7"
  }
 },
 "nbformat": 4,
 "nbformat_minor": 4
}
