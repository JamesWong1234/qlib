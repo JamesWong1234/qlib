{
 "cells": [
  {
   "cell_type": "code",
   "execution_count": 21,
   "metadata": {},
   "outputs": [],
   "source": [
    "import pandas as pd\n",
    "import numpy as np\n",
    "import time\n",
    "from datetime import datetime\n",
    "from sklearn.preprocessing import MinMaxScaler\n",
    "from sklearn.metrics import r2_score,mean_squared_error\n",
    "from sklearn.linear_model import LinearRegression\n",
    "from sklearn.ensemble import RandomForestRegressor\n",
    "import lightgbm as lgb\n",
    "import matplotlib.pyplot as plt\n",
    "import seaborn as sns"
   ]
  },
  {
   "cell_type": "markdown",
   "metadata": {},
   "source": [
    "# Step1： 读出来所有的数据"
   ]
  },
  {
   "cell_type": "code",
   "execution_count": 136,
   "metadata": {},
   "outputs": [
    {
     "name": "stderr",
     "output_type": "stream",
     "text": [
      "[34150:MainThread](2021-05-26 14:36:31,686) INFO - qlib.Initialization - [config.py:276] - default_conf: client.\n",
      "[34150:MainThread](2021-05-26 14:36:31,689) WARNING - qlib.Initialization - [config.py:292] - redis connection failed(host=127.0.0.1 port=6379), cache will not be used!\n",
      "[34150:MainThread](2021-05-26 14:36:31,691) INFO - qlib.Initialization - [__init__.py:46] - qlib successfully initialized based on client settings.\n",
      "[34150:MainThread](2021-05-26 14:36:31,692) INFO - qlib.Initialization - [__init__.py:47] - data_path=/Users/wangfan/.qlib/qlib_data/cn_fund_data\n"
     ]
    }
   ],
   "source": [
    "import qlib\n",
    "from qlib.data import D\n",
    "\n",
    "qlib.init(provider_uri=\"~/.qlib/qlib_data/cn_fund_data\")\n",
    "df = D.features(D.instruments(market=\"all\"), [\"$DWJZ\", \"$LJJZ\"], freq=\"day\")"
   ]
  },
  {
   "cell_type": "code",
   "execution_count": 137,
   "metadata": {},
   "outputs": [
    {
     "data": {
      "text/html": [
       "<div>\n",
       "<style scoped>\n",
       "    .dataframe tbody tr th:only-of-type {\n",
       "        vertical-align: middle;\n",
       "    }\n",
       "\n",
       "    .dataframe tbody tr th {\n",
       "        vertical-align: top;\n",
       "    }\n",
       "\n",
       "    .dataframe thead th {\n",
       "        text-align: right;\n",
       "    }\n",
       "</style>\n",
       "<table border=\"1\" class=\"dataframe\">\n",
       "  <thead>\n",
       "    <tr style=\"text-align: right;\">\n",
       "      <th></th>\n",
       "      <th></th>\n",
       "      <th>$DWJZ</th>\n",
       "      <th>$LJJZ</th>\n",
       "    </tr>\n",
       "    <tr>\n",
       "      <th>instrument</th>\n",
       "      <th>datetime</th>\n",
       "      <th></th>\n",
       "      <th></th>\n",
       "    </tr>\n",
       "  </thead>\n",
       "  <tbody>\n",
       "    <tr>\n",
       "      <th rowspan=\"5\" valign=\"top\">000001</th>\n",
       "      <th>2005-01-04</th>\n",
       "      <td>0.995</td>\n",
       "      <td>1.115</td>\n",
       "    </tr>\n",
       "    <tr>\n",
       "      <th>2005-01-05</th>\n",
       "      <td>0.998</td>\n",
       "      <td>1.118</td>\n",
       "    </tr>\n",
       "    <tr>\n",
       "      <th>2005-01-06</th>\n",
       "      <td>0.991</td>\n",
       "      <td>1.111</td>\n",
       "    </tr>\n",
       "    <tr>\n",
       "      <th>2005-01-07</th>\n",
       "      <td>0.989</td>\n",
       "      <td>1.109</td>\n",
       "    </tr>\n",
       "    <tr>\n",
       "      <th>2005-01-10</th>\n",
       "      <td>0.992</td>\n",
       "      <td>1.112</td>\n",
       "    </tr>\n",
       "  </tbody>\n",
       "</table>\n",
       "</div>"
      ],
      "text/plain": [
       "                       $DWJZ  $LJJZ\n",
       "instrument datetime                \n",
       "000001     2005-01-04  0.995  1.115\n",
       "           2005-01-05  0.998  1.118\n",
       "           2005-01-06  0.991  1.111\n",
       "           2005-01-07  0.989  1.109\n",
       "           2005-01-10  0.992  1.112"
      ]
     },
     "execution_count": 137,
     "metadata": {},
     "output_type": "execute_result"
    }
   ],
   "source": [
    "df.head()"
   ]
  },
  {
   "cell_type": "code",
   "execution_count": 29,
   "metadata": {},
   "outputs": [],
   "source": [
    "df = df.reset_index()"
   ]
  },
  {
   "cell_type": "code",
   "execution_count": 30,
   "metadata": {},
   "outputs": [],
   "source": [
    "df_new = df.copy()"
   ]
  },
  {
   "cell_type": "markdown",
   "metadata": {},
   "source": [
    "# Step2 数据加工"
   ]
  },
  {
   "cell_type": "code",
   "execution_count": 32,
   "metadata": {},
   "outputs": [],
   "source": [
    "df_new[\"LJJZ_1d\"] = df_new.groupby(['instrument'])[\"$LJJZ\"].shift(-1)\n",
    "df_new[\"LJJZ_5d\"] = df_new.groupby(['instrument'])[\"$LJJZ\"].shift(-5)\n",
    "df_new[\"LJJZ_20d\"] = df_new.groupby(['instrument'])[\"$LJJZ\"].shift(-20)\n",
    "df_new[\"LJJZ_60d\"] = df_new.groupby(['instrument'])[\"$LJJZ\"].shift(-60)\n",
    "df_new[\"LJJZ_120d\"] = df_new.groupby(['instrument'])[\"$LJJZ\"].shift(-120)\n",
    "df_new[\"LJJZ_240d\"] = df_new.groupby(['instrument'])[\"$LJJZ\"].shift(-240)\n",
    "df_new[\"LJJZ_480d\"] = df_new.groupby(['instrument'])[\"$LJJZ\"].shift(-480)\n",
    "df_new.index = range(len(df_new))\n",
    "df_new[\"y_1d\"]=100 * (df_new[\"LJJZ_1d\"]- df_new[\"$LJJZ\"])/df_new[\"$LJJZ\"]\n",
    "df_new[\"y_5d\"]=100 * (df_new[\"LJJZ_5d\"]- df_new[\"$LJJZ\"])/df_new[\"$LJJZ\"]\n",
    "df_new[\"y_20d\"]=100 * (df_new[\"LJJZ_20d\"]- df_new[\"$LJJZ\"])/df_new[\"$LJJZ\"]\n",
    "df_new[\"y_60d\"]=100 * (df_new[\"LJJZ_60d\"]- df_new[\"$LJJZ\"])/df_new[\"$LJJZ\"]\n",
    "df_new[\"y_120d\"]=100 * (df_new[\"LJJZ_120d\"]- df_new[\"$LJJZ\"])/df_new[\"$LJJZ\"]\n",
    "df_new[\"y_240d\"]=100 * (df_new[\"LJJZ_240d\"]- df_new[\"$LJJZ\"])/df_new[\"$LJJZ\"]\n",
    "df_new[\"y_480d\"]=100 * (df_new[\"LJJZ_480d\"]- df_new[\"$LJJZ\"])/df_new[\"$LJJZ\"]\n",
    "df_new = df_new.drop(columns = ['LJJZ_1d','LJJZ_5d','LJJZ_20d','LJJZ_60d','LJJZ_120d','LJJZ_240d','LJJZ_480d'])"
   ]
  },
  {
   "cell_type": "code",
   "execution_count": 33,
   "metadata": {},
   "outputs": [],
   "source": [
    "df_new[\"LJJZ_20d\"] = df_new.groupby(['instrument'])[\"$LJJZ\"].shift(20)\n",
    "df_new[\"LJJZ_60d\"] = df_new.groupby(['instrument'])[\"$LJJZ\"].shift(60)\n",
    "df_new[\"LJJZ_120d\"] = df_new.groupby(['instrument'])[\"$LJJZ\"].shift(120)\n",
    "df_new[\"LJJZ_240d\"] = df_new.groupby(['instrument'])[\"$LJJZ\"].shift(240)\n",
    "df_new[\"LJJZ_480d\"] = df_new.groupby(['instrument'])[\"$LJJZ\"].shift(480)\n",
    "df_new.index = range(len(df_new))\n",
    "\n",
    "\n",
    "df_new[\"his_20d\"]=-100 * (df_new[\"LJJZ_20d\"]- df_new[\"$LJJZ\"])/df_new[\"LJJZ_20d\"]\n",
    "df_new[\"his_60d\"]=-100 * (df_new[\"LJJZ_60d\"]- df_new[\"$LJJZ\"])/df_new[\"LJJZ_60d\"]\n",
    "df_new[\"his_120d\"]=-100 * (df_new[\"LJJZ_120d\"]- df_new[\"$LJJZ\"])/df_new[\"LJJZ_120d\"]\n",
    "df_new[\"his_240d\"]=-100 * (df_new[\"LJJZ_240d\"]- df_new[\"$LJJZ\"])/df_new[\"LJJZ_240d\"]\n",
    "df_new[\"his_480d\"]=-100 * (df_new[\"LJJZ_480d\"]- df_new[\"$LJJZ\"])/df_new[\"LJJZ_480d\"]\n",
    "df_new = df_new.drop(columns = ['LJJZ_20d','LJJZ_60d','LJJZ_120d','LJJZ_240d','LJJZ_480d'])"
   ]
  },
  {
   "cell_type": "code",
   "execution_count": 35,
   "metadata": {},
   "outputs": [],
   "source": [
    "df_train = df_new[df_new['y_480d'].notnull()]\n",
    "df_test = df_new[df_new['y_480d'].isnull()]"
   ]
  },
  {
   "cell_type": "code",
   "execution_count": 39,
   "metadata": {},
   "outputs": [],
   "source": [
    "df_train = df_train.dropna()"
   ]
  },
  {
   "cell_type": "code",
   "execution_count": 41,
   "metadata": {},
   "outputs": [],
   "source": [
    "df_train[\"rank_20d\"] = df_train.groupby(['datetime'])[\"his_20d\"].rank(method='min',ascending=False)\n",
    "df_train[\"rank_60d\"] = df_train.groupby(['datetime'])[\"his_60d\"].rank(method='min',ascending=False)\n",
    "df_train[\"rank_120d\"] = df_train.groupby(['datetime'])[\"his_120d\"].rank(method='min',ascending=False)\n",
    "df_train[\"rank_240d\"] = df_train.groupby(['datetime'])[\"his_240d\"].rank(method='min',ascending=False)\n",
    "df_train[\"rank_480d\"] = df_train.groupby(['datetime'])[\"his_480d\"].rank(method='min',ascending=False)\n",
    "df_train.index = range(len(df_train))\n",
    "# rank越小涨幅越大"
   ]
  },
  {
   "cell_type": "code",
   "execution_count": 54,
   "metadata": {},
   "outputs": [],
   "source": [
    "df_train[\"average_rank\"] = df_train[\"rank_20d\"] + df_train[\"rank_60d\"] + df_train[\"rank_120d\"] + df_train[\"rank_240d\"] + df_train[\"rank_480d\"]\n",
    "df_train[\"rank_of_average_rank\"] = df_train.groupby(['datetime'])[\"average_rank\"].rank(method='min')\n",
    "df_train.index = range(len(df_train))\n",
    "# rank越小，平均排名越高"
   ]
  },
  {
   "cell_type": "code",
   "execution_count": 61,
   "metadata": {},
   "outputs": [
    {
     "data": {
      "text/html": [
       "<div>\n",
       "<style scoped>\n",
       "    .dataframe tbody tr th:only-of-type {\n",
       "        vertical-align: middle;\n",
       "    }\n",
       "\n",
       "    .dataframe tbody tr th {\n",
       "        vertical-align: top;\n",
       "    }\n",
       "\n",
       "    .dataframe thead th {\n",
       "        text-align: right;\n",
       "    }\n",
       "</style>\n",
       "<table border=\"1\" class=\"dataframe\">\n",
       "  <thead>\n",
       "    <tr style=\"text-align: right;\">\n",
       "      <th></th>\n",
       "      <th>instrument</th>\n",
       "      <th>datetime</th>\n",
       "      <th>average_rank</th>\n",
       "      <th>rank_of_average_rank</th>\n",
       "    </tr>\n",
       "  </thead>\n",
       "  <tbody>\n",
       "    <tr>\n",
       "      <th>2724916</th>\n",
       "      <td>762001</td>\n",
       "      <td>2016-05-11</td>\n",
       "      <td>483.0</td>\n",
       "      <td>1.0</td>\n",
       "    </tr>\n",
       "  </tbody>\n",
       "</table>\n",
       "</div>"
      ],
      "text/plain": [
       "        instrument   datetime  average_rank  rank_of_average_rank\n",
       "2724916     762001 2016-05-11         483.0                   1.0"
      ]
     },
     "execution_count": 61,
     "metadata": {},
     "output_type": "execute_result"
    }
   ],
   "source": [
    "df_train[(df_train['rank_of_average_rank']==1)&(df_train['datetime']=='2016-05-11')][['instrument','datetime','average_rank','rank_of_average_rank']]"
   ]
  },
  {
   "cell_type": "code",
   "execution_count": 62,
   "metadata": {},
   "outputs": [
    {
     "data": {
      "text/html": [
       "<div>\n",
       "<style scoped>\n",
       "    .dataframe tbody tr th:only-of-type {\n",
       "        vertical-align: middle;\n",
       "    }\n",
       "\n",
       "    .dataframe tbody tr th {\n",
       "        vertical-align: top;\n",
       "    }\n",
       "\n",
       "    .dataframe thead th {\n",
       "        text-align: right;\n",
       "    }\n",
       "</style>\n",
       "<table border=\"1\" class=\"dataframe\">\n",
       "  <thead>\n",
       "    <tr style=\"text-align: right;\">\n",
       "      <th></th>\n",
       "      <th>instrument</th>\n",
       "      <th>datetime</th>\n",
       "      <th>average_rank</th>\n",
       "      <th>rank_of_average_rank</th>\n",
       "    </tr>\n",
       "  </thead>\n",
       "  <tbody>\n",
       "    <tr>\n",
       "      <th>145555</th>\n",
       "      <td>000290</td>\n",
       "      <td>2016-05-11</td>\n",
       "      <td>1238.0</td>\n",
       "      <td>10.0</td>\n",
       "    </tr>\n",
       "  </tbody>\n",
       "</table>\n",
       "</div>"
      ],
      "text/plain": [
       "       instrument   datetime  average_rank  rank_of_average_rank\n",
       "145555     000290 2016-05-11        1238.0                  10.0"
      ]
     },
     "execution_count": 62,
     "metadata": {},
     "output_type": "execute_result"
    }
   ],
   "source": [
    "df_train[(df_train['rank_of_average_rank']==10)&(df_train['datetime']=='2016-05-11')][['instrument','datetime','average_rank','rank_of_average_rank']]"
   ]
  },
  {
   "cell_type": "code",
   "execution_count": 53,
   "metadata": {},
   "outputs": [
    {
     "name": "stderr",
     "output_type": "stream",
     "text": [
      "/Users/wangfan/anaconda3/envs/python37/lib/python3.7/site-packages/ipykernel_launcher.py:1: SettingWithCopyWarning: \n",
      "A value is trying to be set on a copy of a slice from a DataFrame.\n",
      "Try using .loc[row_indexer,col_indexer] = value instead\n",
      "\n",
      "See the caveats in the documentation: https://pandas.pydata.org/pandas-docs/stable/user_guide/indexing.html#returning-a-view-versus-a-copy\n",
      "  \"\"\"Entry point for launching an IPython kernel.\n",
      "/Users/wangfan/anaconda3/envs/python37/lib/python3.7/site-packages/ipykernel_launcher.py:2: SettingWithCopyWarning: \n",
      "A value is trying to be set on a copy of a slice from a DataFrame.\n",
      "Try using .loc[row_indexer,col_indexer] = value instead\n",
      "\n",
      "See the caveats in the documentation: https://pandas.pydata.org/pandas-docs/stable/user_guide/indexing.html#returning-a-view-versus-a-copy\n",
      "  \n",
      "/Users/wangfan/anaconda3/envs/python37/lib/python3.7/site-packages/ipykernel_launcher.py:3: SettingWithCopyWarning: \n",
      "A value is trying to be set on a copy of a slice from a DataFrame.\n",
      "Try using .loc[row_indexer,col_indexer] = value instead\n",
      "\n",
      "See the caveats in the documentation: https://pandas.pydata.org/pandas-docs/stable/user_guide/indexing.html#returning-a-view-versus-a-copy\n",
      "  This is separate from the ipykernel package so we can avoid doing imports until\n",
      "/Users/wangfan/anaconda3/envs/python37/lib/python3.7/site-packages/ipykernel_launcher.py:4: SettingWithCopyWarning: \n",
      "A value is trying to be set on a copy of a slice from a DataFrame.\n",
      "Try using .loc[row_indexer,col_indexer] = value instead\n",
      "\n",
      "See the caveats in the documentation: https://pandas.pydata.org/pandas-docs/stable/user_guide/indexing.html#returning-a-view-versus-a-copy\n",
      "  after removing the cwd from sys.path.\n",
      "/Users/wangfan/anaconda3/envs/python37/lib/python3.7/site-packages/ipykernel_launcher.py:5: SettingWithCopyWarning: \n",
      "A value is trying to be set on a copy of a slice from a DataFrame.\n",
      "Try using .loc[row_indexer,col_indexer] = value instead\n",
      "\n",
      "See the caveats in the documentation: https://pandas.pydata.org/pandas-docs/stable/user_guide/indexing.html#returning-a-view-versus-a-copy\n",
      "  \"\"\"\n"
     ]
    }
   ],
   "source": [
    "df_test[\"rank_20d\"] = df_test.groupby(['datetime'])[\"his_20d\"].rank(method='min',ascending=False)\n",
    "df_test[\"rank_60d\"] = df_test.groupby(['datetime'])[\"his_60d\"].rank(method='min',ascending=False)\n",
    "df_test[\"rank_120d\"] = df_test.groupby(['datetime'])[\"his_120d\"].rank(method='min',ascending=False)\n",
    "df_test[\"rank_240d\"] = df_test.groupby(['datetime'])[\"his_240d\"].rank(method='min',ascending=False)\n",
    "df_test[\"rank_480d\"] = df_test.groupby(['datetime'])[\"his_480d\"].rank(method='min',ascending=False)\n",
    "df_test.index = range(len(df_test))"
   ]
  },
  {
   "cell_type": "code",
   "execution_count": 63,
   "metadata": {},
   "outputs": [
    {
     "name": "stderr",
     "output_type": "stream",
     "text": [
      "/Users/wangfan/anaconda3/envs/python37/lib/python3.7/site-packages/ipykernel_launcher.py:1: SettingWithCopyWarning: \n",
      "A value is trying to be set on a copy of a slice from a DataFrame.\n",
      "Try using .loc[row_indexer,col_indexer] = value instead\n",
      "\n",
      "See the caveats in the documentation: https://pandas.pydata.org/pandas-docs/stable/user_guide/indexing.html#returning-a-view-versus-a-copy\n",
      "  \"\"\"Entry point for launching an IPython kernel.\n",
      "/Users/wangfan/anaconda3/envs/python37/lib/python3.7/site-packages/ipykernel_launcher.py:2: SettingWithCopyWarning: \n",
      "A value is trying to be set on a copy of a slice from a DataFrame.\n",
      "Try using .loc[row_indexer,col_indexer] = value instead\n",
      "\n",
      "See the caveats in the documentation: https://pandas.pydata.org/pandas-docs/stable/user_guide/indexing.html#returning-a-view-versus-a-copy\n",
      "  \n"
     ]
    }
   ],
   "source": [
    "df_test[\"average_rank\"] = df_test[\"rank_20d\"] + df_test[\"rank_60d\"] + df_test[\"rank_120d\"] + df_test[\"rank_240d\"] + df_test[\"rank_480d\"]\n",
    "df_test[\"rank_of_average_rank\"] = df_test.groupby(['datetime'])[\"average_rank\"].rank(method='min')\n",
    "df_test.index = range(len(df_test))"
   ]
  },
  {
   "cell_type": "markdown",
   "metadata": {},
   "source": [
    "# Step 3 模拟回测"
   ]
  },
  {
   "cell_type": "code",
   "execution_count": 71,
   "metadata": {},
   "outputs": [
    {
     "data": {
      "text/plain": [
       "Index(['instrument', 'datetime', '$DWJZ', '$LJJZ', 'y_1d', 'y_5d', 'y_20d',\n",
       "       'y_60d', 'y_120d', 'y_240d', 'y_480d', 'his_20d', 'his_60d', 'his_120d',\n",
       "       'his_240d', 'his_480d', 'rank_20d', 'rank_60d', 'rank_120d',\n",
       "       'rank_240d', 'rank_480d', 'average_rank', 'rank_of_average_rank'],\n",
       "      dtype='object')"
      ]
     },
     "execution_count": 71,
     "metadata": {},
     "output_type": "execute_result"
    }
   ],
   "source": [
    "df_train.columns"
   ]
  },
  {
   "cell_type": "code",
   "execution_count": 104,
   "metadata": {},
   "outputs": [],
   "source": [
    "def simulation_240d(start_rank,end_rank,start_date='1900-01-01',end_date='2021-04-29',dingtou=False,frequency=5):\n",
    "    if not dingtou:\n",
    "        return np.mean(df_train[(df_train['rank_of_average_rank']>=start_rank)\n",
    "                &(df_train['rank_of_average_rank']<=end_rank)&(df_train['datetime']>start_date)&(df_train['datetime']<end_date)]['y_240d'])\n",
    "    else:\n",
    "        "
   ]
  },
  {
   "cell_type": "code",
   "execution_count": 126,
   "metadata": {},
   "outputs": [
    {
     "data": {
      "text/html": [
       "<div>\n",
       "<style scoped>\n",
       "    .dataframe tbody tr th:only-of-type {\n",
       "        vertical-align: middle;\n",
       "    }\n",
       "\n",
       "    .dataframe tbody tr th {\n",
       "        vertical-align: top;\n",
       "    }\n",
       "\n",
       "    .dataframe thead th {\n",
       "        text-align: right;\n",
       "    }\n",
       "</style>\n",
       "<table border=\"1\" class=\"dataframe\">\n",
       "  <thead>\n",
       "    <tr style=\"text-align: right;\">\n",
       "      <th></th>\n",
       "      <th>instrument</th>\n",
       "      <th>datetime</th>\n",
       "      <th>$DWJZ</th>\n",
       "      <th>$LJJZ</th>\n",
       "      <th>y_1d</th>\n",
       "      <th>y_5d</th>\n",
       "      <th>y_20d</th>\n",
       "      <th>y_60d</th>\n",
       "      <th>y_120d</th>\n",
       "      <th>y_240d</th>\n",
       "      <th>...</th>\n",
       "      <th>his_120d</th>\n",
       "      <th>his_240d</th>\n",
       "      <th>his_480d</th>\n",
       "      <th>rank_20d</th>\n",
       "      <th>rank_60d</th>\n",
       "      <th>rank_120d</th>\n",
       "      <th>rank_240d</th>\n",
       "      <th>rank_480d</th>\n",
       "      <th>average_rank</th>\n",
       "      <th>rank_of_average_rank</th>\n",
       "    </tr>\n",
       "  </thead>\n",
       "  <tbody>\n",
       "    <tr>\n",
       "      <th>14026</th>\n",
       "      <td>000020</td>\n",
       "      <td>2018-03-02</td>\n",
       "      <td>2.3160</td>\n",
       "      <td>2.3160</td>\n",
       "      <td>0.431779</td>\n",
       "      <td>2.849740</td>\n",
       "      <td>0.129535</td>\n",
       "      <td>-2.763381</td>\n",
       "      <td>-18.652851</td>\n",
       "      <td>-13.816922</td>\n",
       "      <td>...</td>\n",
       "      <td>11.560694</td>\n",
       "      <td>34.183086</td>\n",
       "      <td>57.123474</td>\n",
       "      <td>729.0</td>\n",
       "      <td>75.0</td>\n",
       "      <td>136.0</td>\n",
       "      <td>53.0</td>\n",
       "      <td>89.0</td>\n",
       "      <td>1082.0</td>\n",
       "      <td>12.0</td>\n",
       "    </tr>\n",
       "    <tr>\n",
       "      <th>14029</th>\n",
       "      <td>000020</td>\n",
       "      <td>2018-03-07</td>\n",
       "      <td>2.3280</td>\n",
       "      <td>2.3280</td>\n",
       "      <td>0.257734</td>\n",
       "      <td>1.632297</td>\n",
       "      <td>-2.448460</td>\n",
       "      <td>-2.792099</td>\n",
       "      <td>-17.010309</td>\n",
       "      <td>-11.640899</td>\n",
       "      <td>...</td>\n",
       "      <td>11.281074</td>\n",
       "      <td>32.197617</td>\n",
       "      <td>49.903419</td>\n",
       "      <td>139.0</td>\n",
       "      <td>137.0</td>\n",
       "      <td>143.0</td>\n",
       "      <td>57.0</td>\n",
       "      <td>104.0</td>\n",
       "      <td>580.0</td>\n",
       "      <td>11.0</td>\n",
       "    </tr>\n",
       "    <tr>\n",
       "      <th>20802</th>\n",
       "      <td>000030</td>\n",
       "      <td>2015-08-25</td>\n",
       "      <td>1.7820</td>\n",
       "      <td>1.7820</td>\n",
       "      <td>0.000000</td>\n",
       "      <td>2.132442</td>\n",
       "      <td>2.974192</td>\n",
       "      <td>10.437716</td>\n",
       "      <td>2.413025</td>\n",
       "      <td>5.050508</td>\n",
       "      <td>...</td>\n",
       "      <td>18.641809</td>\n",
       "      <td>38.677040</td>\n",
       "      <td>78.021965</td>\n",
       "      <td>360.0</td>\n",
       "      <td>376.0</td>\n",
       "      <td>23.0</td>\n",
       "      <td>152.0</td>\n",
       "      <td>31.0</td>\n",
       "      <td>942.0</td>\n",
       "      <td>15.0</td>\n",
       "    </tr>\n",
       "    <tr>\n",
       "      <th>20804</th>\n",
       "      <td>000030</td>\n",
       "      <td>2015-08-27</td>\n",
       "      <td>1.7990</td>\n",
       "      <td>1.7990</td>\n",
       "      <td>0.944967</td>\n",
       "      <td>0.944967</td>\n",
       "      <td>2.001112</td>\n",
       "      <td>7.726511</td>\n",
       "      <td>0.166760</td>\n",
       "      <td>3.946636</td>\n",
       "      <td>...</td>\n",
       "      <td>19.693945</td>\n",
       "      <td>39.241482</td>\n",
       "      <td>79.183281</td>\n",
       "      <td>329.0</td>\n",
       "      <td>393.0</td>\n",
       "      <td>27.0</td>\n",
       "      <td>145.0</td>\n",
       "      <td>32.0</td>\n",
       "      <td>926.0</td>\n",
       "      <td>12.0</td>\n",
       "    </tr>\n",
       "    <tr>\n",
       "      <th>20811</th>\n",
       "      <td>000030</td>\n",
       "      <td>2015-09-09</td>\n",
       "      <td>1.8360</td>\n",
       "      <td>1.8360</td>\n",
       "      <td>-0.326793</td>\n",
       "      <td>-0.708062</td>\n",
       "      <td>1.688454</td>\n",
       "      <td>4.956431</td>\n",
       "      <td>-2.178647</td>\n",
       "      <td>1.851854</td>\n",
       "      <td>...</td>\n",
       "      <td>18.911913</td>\n",
       "      <td>40.474361</td>\n",
       "      <td>83.233536</td>\n",
       "      <td>314.0</td>\n",
       "      <td>389.0</td>\n",
       "      <td>16.0</td>\n",
       "      <td>161.0</td>\n",
       "      <td>33.0</td>\n",
       "      <td>913.0</td>\n",
       "      <td>11.0</td>\n",
       "    </tr>\n",
       "    <tr>\n",
       "      <th>...</th>\n",
       "      <td>...</td>\n",
       "      <td>...</td>\n",
       "      <td>...</td>\n",
       "      <td>...</td>\n",
       "      <td>...</td>\n",
       "      <td>...</td>\n",
       "      <td>...</td>\n",
       "      <td>...</td>\n",
       "      <td>...</td>\n",
       "      <td>...</td>\n",
       "      <td>...</td>\n",
       "      <td>...</td>\n",
       "      <td>...</td>\n",
       "      <td>...</td>\n",
       "      <td>...</td>\n",
       "      <td>...</td>\n",
       "      <td>...</td>\n",
       "      <td>...</td>\n",
       "      <td>...</td>\n",
       "      <td>...</td>\n",
       "      <td>...</td>\n",
       "    </tr>\n",
       "    <tr>\n",
       "      <th>2724910</th>\n",
       "      <td>762001</td>\n",
       "      <td>2016-05-03</td>\n",
       "      <td>1.7934</td>\n",
       "      <td>2.4234</td>\n",
       "      <td>0.107295</td>\n",
       "      <td>-2.492367</td>\n",
       "      <td>-0.433274</td>\n",
       "      <td>2.290172</td>\n",
       "      <td>3.495094</td>\n",
       "      <td>4.654623</td>\n",
       "      <td>...</td>\n",
       "      <td>5.820699</td>\n",
       "      <td>21.778891</td>\n",
       "      <td>131.993103</td>\n",
       "      <td>297.0</td>\n",
       "      <td>518.0</td>\n",
       "      <td>33.0</td>\n",
       "      <td>4.0</td>\n",
       "      <td>13.0</td>\n",
       "      <td>865.0</td>\n",
       "      <td>13.0</td>\n",
       "    </tr>\n",
       "    <tr>\n",
       "      <th>2724911</th>\n",
       "      <td>762001</td>\n",
       "      <td>2016-05-04</td>\n",
       "      <td>1.7960</td>\n",
       "      <td>2.4260</td>\n",
       "      <td>0.086562</td>\n",
       "      <td>-1.463316</td>\n",
       "      <td>-0.511136</td>\n",
       "      <td>2.366034</td>\n",
       "      <td>3.825222</td>\n",
       "      <td>4.311622</td>\n",
       "      <td>...</td>\n",
       "      <td>5.892633</td>\n",
       "      <td>21.799387</td>\n",
       "      <td>132.509109</td>\n",
       "      <td>417.0</td>\n",
       "      <td>507.0</td>\n",
       "      <td>26.0</td>\n",
       "      <td>4.0</td>\n",
       "      <td>14.0</td>\n",
       "      <td>968.0</td>\n",
       "      <td>12.0</td>\n",
       "    </tr>\n",
       "    <tr>\n",
       "      <th>2724914</th>\n",
       "      <td>762001</td>\n",
       "      <td>2016-05-09</td>\n",
       "      <td>1.7119</td>\n",
       "      <td>2.3419</td>\n",
       "      <td>0.900970</td>\n",
       "      <td>3.176905</td>\n",
       "      <td>4.252950</td>\n",
       "      <td>6.089065</td>\n",
       "      <td>6.870485</td>\n",
       "      <td>7.767189</td>\n",
       "      <td>...</td>\n",
       "      <td>2.123674</td>\n",
       "      <td>17.594782</td>\n",
       "      <td>123.442429</td>\n",
       "      <td>886.0</td>\n",
       "      <td>233.0</td>\n",
       "      <td>127.0</td>\n",
       "      <td>2.0</td>\n",
       "      <td>8.0</td>\n",
       "      <td>1256.0</td>\n",
       "      <td>11.0</td>\n",
       "    </tr>\n",
       "    <tr>\n",
       "      <th>2724922</th>\n",
       "      <td>762001</td>\n",
       "      <td>2016-05-19</td>\n",
       "      <td>1.7281</td>\n",
       "      <td>2.3581</td>\n",
       "      <td>0.330779</td>\n",
       "      <td>0.339262</td>\n",
       "      <td>1.904083</td>\n",
       "      <td>8.057337</td>\n",
       "      <td>7.251601</td>\n",
       "      <td>6.276239</td>\n",
       "      <td>...</td>\n",
       "      <td>2.767364</td>\n",
       "      <td>5.164336</td>\n",
       "      <td>122.988174</td>\n",
       "      <td>682.0</td>\n",
       "      <td>199.0</td>\n",
       "      <td>75.0</td>\n",
       "      <td>126.0</td>\n",
       "      <td>8.0</td>\n",
       "      <td>1090.0</td>\n",
       "      <td>11.0</td>\n",
       "    </tr>\n",
       "    <tr>\n",
       "      <th>2724932</th>\n",
       "      <td>762001</td>\n",
       "      <td>2016-06-02</td>\n",
       "      <td>1.7911</td>\n",
       "      <td>2.4211</td>\n",
       "      <td>0.603033</td>\n",
       "      <td>-2.767334</td>\n",
       "      <td>2.329522</td>\n",
       "      <td>4.778820</td>\n",
       "      <td>4.939906</td>\n",
       "      <td>3.609938</td>\n",
       "      <td>...</td>\n",
       "      <td>5.646464</td>\n",
       "      <td>4.587670</td>\n",
       "      <td>125.407295</td>\n",
       "      <td>723.0</td>\n",
       "      <td>488.0</td>\n",
       "      <td>20.0</td>\n",
       "      <td>161.0</td>\n",
       "      <td>9.0</td>\n",
       "      <td>1401.0</td>\n",
       "      <td>11.0</td>\n",
       "    </tr>\n",
       "  </tbody>\n",
       "</table>\n",
       "<p>8985 rows × 23 columns</p>\n",
       "</div>"
      ],
      "text/plain": [
       "        instrument   datetime   $DWJZ   $LJJZ      y_1d      y_5d     y_20d  \\\n",
       "14026       000020 2018-03-02  2.3160  2.3160  0.431779  2.849740  0.129535   \n",
       "14029       000020 2018-03-07  2.3280  2.3280  0.257734  1.632297 -2.448460   \n",
       "20802       000030 2015-08-25  1.7820  1.7820  0.000000  2.132442  2.974192   \n",
       "20804       000030 2015-08-27  1.7990  1.7990  0.944967  0.944967  2.001112   \n",
       "20811       000030 2015-09-09  1.8360  1.8360 -0.326793 -0.708062  1.688454   \n",
       "...            ...        ...     ...     ...       ...       ...       ...   \n",
       "2724910     762001 2016-05-03  1.7934  2.4234  0.107295 -2.492367 -0.433274   \n",
       "2724911     762001 2016-05-04  1.7960  2.4260  0.086562 -1.463316 -0.511136   \n",
       "2724914     762001 2016-05-09  1.7119  2.3419  0.900970  3.176905  4.252950   \n",
       "2724922     762001 2016-05-19  1.7281  2.3581  0.330779  0.339262  1.904083   \n",
       "2724932     762001 2016-06-02  1.7911  2.4211  0.603033 -2.767334  2.329522   \n",
       "\n",
       "             y_60d     y_120d     y_240d  ...   his_120d   his_240d  \\\n",
       "14026    -2.763381 -18.652851 -13.816922  ...  11.560694  34.183086   \n",
       "14029    -2.792099 -17.010309 -11.640899  ...  11.281074  32.197617   \n",
       "20802    10.437716   2.413025   5.050508  ...  18.641809  38.677040   \n",
       "20804     7.726511   0.166760   3.946636  ...  19.693945  39.241482   \n",
       "20811     4.956431  -2.178647   1.851854  ...  18.911913  40.474361   \n",
       "...            ...        ...        ...  ...        ...        ...   \n",
       "2724910   2.290172   3.495094   4.654623  ...   5.820699  21.778891   \n",
       "2724911   2.366034   3.825222   4.311622  ...   5.892633  21.799387   \n",
       "2724914   6.089065   6.870485   7.767189  ...   2.123674  17.594782   \n",
       "2724922   8.057337   7.251601   6.276239  ...   2.767364   5.164336   \n",
       "2724932   4.778820   4.939906   3.609938  ...   5.646464   4.587670   \n",
       "\n",
       "           his_480d  rank_20d  rank_60d  rank_120d  rank_240d  rank_480d  \\\n",
       "14026     57.123474     729.0      75.0      136.0       53.0       89.0   \n",
       "14029     49.903419     139.0     137.0      143.0       57.0      104.0   \n",
       "20802     78.021965     360.0     376.0       23.0      152.0       31.0   \n",
       "20804     79.183281     329.0     393.0       27.0      145.0       32.0   \n",
       "20811     83.233536     314.0     389.0       16.0      161.0       33.0   \n",
       "...             ...       ...       ...        ...        ...        ...   \n",
       "2724910  131.993103     297.0     518.0       33.0        4.0       13.0   \n",
       "2724911  132.509109     417.0     507.0       26.0        4.0       14.0   \n",
       "2724914  123.442429     886.0     233.0      127.0        2.0        8.0   \n",
       "2724922  122.988174     682.0     199.0       75.0      126.0        8.0   \n",
       "2724932  125.407295     723.0     488.0       20.0      161.0        9.0   \n",
       "\n",
       "         average_rank  rank_of_average_rank  \n",
       "14026          1082.0                  12.0  \n",
       "14029           580.0                  11.0  \n",
       "20802           942.0                  15.0  \n",
       "20804           926.0                  12.0  \n",
       "20811           913.0                  11.0  \n",
       "...               ...                   ...  \n",
       "2724910         865.0                  13.0  \n",
       "2724911         968.0                  12.0  \n",
       "2724914        1256.0                  11.0  \n",
       "2724922        1090.0                  11.0  \n",
       "2724932        1401.0                  11.0  \n",
       "\n",
       "[8985 rows x 23 columns]"
      ]
     },
     "execution_count": 126,
     "metadata": {},
     "output_type": "execute_result"
    }
   ],
   "source": [
    "start_rank=11\n",
    "end_rank=15\n",
    "start_date='1900-01-01'\n",
    "end_date='2021-04-29'\n",
    "df_train[(df_train['rank_of_average_rank']>=start_rank)\n",
    "                &(df_train['rank_of_average_rank']<=end_rank)\n",
    "                 &(df_train['datetime']>start_date)\n",
    "                 &(df_train['datetime']<end_date)]"
   ]
  },
  {
   "cell_type": "code",
   "execution_count": 111,
   "metadata": {},
   "outputs": [
    {
     "data": {
      "text/plain": [
       "8.651797"
      ]
     },
     "execution_count": 111,
     "metadata": {},
     "output_type": "execute_result"
    }
   ],
   "source": [
    "simulation_240d(1,10,'2012-01-01')"
   ]
  },
  {
   "cell_type": "code",
   "execution_count": 112,
   "metadata": {},
   "outputs": [
    {
     "data": {
      "text/plain": [
       "8.87317"
      ]
     },
     "execution_count": 112,
     "metadata": {},
     "output_type": "execute_result"
    }
   ],
   "source": [
    "simulation_240d(2,11,'2012-01-01')"
   ]
  },
  {
   "cell_type": "code",
   "execution_count": 113,
   "metadata": {},
   "outputs": [
    {
     "data": {
      "text/plain": [
       "8.393454"
      ]
     },
     "execution_count": 113,
     "metadata": {},
     "output_type": "execute_result"
    }
   ],
   "source": [
    "simulation_240d(1,5,'2012-01-01')"
   ]
  },
  {
   "cell_type": "code",
   "execution_count": 114,
   "metadata": {},
   "outputs": [
    {
     "data": {
      "text/plain": [
       "8.842889"
      ]
     },
     "execution_count": 114,
     "metadata": {},
     "output_type": "execute_result"
    }
   ],
   "source": [
    "simulation_240d(11,20,'2012-01-01')"
   ]
  },
  {
   "cell_type": "code",
   "execution_count": 115,
   "metadata": {},
   "outputs": [
    {
     "data": {
      "text/plain": [
       "9.055062"
      ]
     },
     "execution_count": 115,
     "metadata": {},
     "output_type": "execute_result"
    }
   ],
   "source": [
    "simulation_240d(11,15,'2012-01-01')"
   ]
  },
  {
   "cell_type": "code",
   "execution_count": 116,
   "metadata": {},
   "outputs": [
    {
     "data": {
      "text/plain": [
       "8.630151"
      ]
     },
     "execution_count": 116,
     "metadata": {},
     "output_type": "execute_result"
    }
   ],
   "source": [
    "simulation_240d(21,30,'2012-01-01')"
   ]
  },
  {
   "cell_type": "markdown",
   "metadata": {},
   "source": [
    "# 2013以后"
   ]
  },
  {
   "cell_type": "code",
   "execution_count": 117,
   "metadata": {},
   "outputs": [
    {
     "data": {
      "text/plain": [
       "9.478833"
      ]
     },
     "execution_count": 117,
     "metadata": {},
     "output_type": "execute_result"
    }
   ],
   "source": [
    "simulation_240d(11,15,'2013-01-01')"
   ]
  },
  {
   "cell_type": "code",
   "execution_count": 118,
   "metadata": {},
   "outputs": [
    {
     "data": {
      "text/plain": [
       "9.816602"
      ]
     },
     "execution_count": 118,
     "metadata": {},
     "output_type": "execute_result"
    }
   ],
   "source": [
    "simulation_240d(11,15,'2014-01-01')"
   ]
  },
  {
   "cell_type": "code",
   "execution_count": 119,
   "metadata": {},
   "outputs": [
    {
     "data": {
      "text/plain": [
       "2.7627668"
      ]
     },
     "execution_count": 119,
     "metadata": {},
     "output_type": "execute_result"
    }
   ],
   "source": [
    "simulation_240d(11,15,'2015-01-01')"
   ]
  },
  {
   "cell_type": "code",
   "execution_count": 120,
   "metadata": {},
   "outputs": [
    {
     "data": {
      "text/plain": [
       "5.759387"
      ]
     },
     "execution_count": 120,
     "metadata": {},
     "output_type": "execute_result"
    }
   ],
   "source": [
    "simulation_240d(11,15,'2016-01-01')"
   ]
  },
  {
   "cell_type": "code",
   "execution_count": 121,
   "metadata": {},
   "outputs": [
    {
     "data": {
      "text/plain": [
       "4.541946"
      ]
     },
     "execution_count": 121,
     "metadata": {},
     "output_type": "execute_result"
    }
   ],
   "source": [
    "simulation_240d(11,15,'2017-01-01')"
   ]
  },
  {
   "cell_type": "code",
   "execution_count": 123,
   "metadata": {},
   "outputs": [
    {
     "data": {
      "text/plain": [
       "5.1824164"
      ]
     },
     "execution_count": 123,
     "metadata": {},
     "output_type": "execute_result"
    }
   ],
   "source": [
    "simulation_240d(11,15,'2018-01-01')"
   ]
  },
  {
   "cell_type": "markdown",
   "metadata": {},
   "source": [
    "# 定投"
   ]
  },
  {
   "cell_type": "code",
   "execution_count": null,
   "metadata": {},
   "outputs": [],
   "source": []
  },
  {
   "cell_type": "markdown",
   "metadata": {},
   "source": [
    "# Step 4 预测未来最优潜力组合"
   ]
  },
  {
   "cell_type": "code",
   "execution_count": 66,
   "metadata": {},
   "outputs": [
    {
     "data": {
      "text/html": [
       "<div>\n",
       "<style scoped>\n",
       "    .dataframe tbody tr th:only-of-type {\n",
       "        vertical-align: middle;\n",
       "    }\n",
       "\n",
       "    .dataframe tbody tr th {\n",
       "        vertical-align: top;\n",
       "    }\n",
       "\n",
       "    .dataframe thead th {\n",
       "        text-align: right;\n",
       "    }\n",
       "</style>\n",
       "<table border=\"1\" class=\"dataframe\">\n",
       "  <thead>\n",
       "    <tr style=\"text-align: right;\">\n",
       "      <th></th>\n",
       "      <th>instrument</th>\n",
       "      <th>datetime</th>\n",
       "      <th>$DWJZ</th>\n",
       "      <th>$LJJZ</th>\n",
       "      <th>y_1d</th>\n",
       "      <th>y_5d</th>\n",
       "      <th>y_20d</th>\n",
       "      <th>y_60d</th>\n",
       "      <th>y_120d</th>\n",
       "      <th>y_240d</th>\n",
       "      <th>...</th>\n",
       "      <th>his_120d</th>\n",
       "      <th>his_240d</th>\n",
       "      <th>his_480d</th>\n",
       "      <th>rank_20d</th>\n",
       "      <th>rank_60d</th>\n",
       "      <th>rank_120d</th>\n",
       "      <th>rank_240d</th>\n",
       "      <th>rank_480d</th>\n",
       "      <th>average_rank</th>\n",
       "      <th>rank_of_average_rank</th>\n",
       "    </tr>\n",
       "  </thead>\n",
       "  <tbody>\n",
       "    <tr>\n",
       "      <th>4592256</th>\n",
       "      <td>980003</td>\n",
       "      <td>2021-04-23</td>\n",
       "      <td>1.4565</td>\n",
       "      <td>1.4565</td>\n",
       "      <td>0.048060</td>\n",
       "      <td>NaN</td>\n",
       "      <td>NaN</td>\n",
       "      <td>NaN</td>\n",
       "      <td>NaN</td>\n",
       "      <td>NaN</td>\n",
       "      <td>...</td>\n",
       "      <td>1.988661</td>\n",
       "      <td>4.244207</td>\n",
       "      <td>NaN</td>\n",
       "      <td>6944.0</td>\n",
       "      <td>823.0</td>\n",
       "      <td>5798.0</td>\n",
       "      <td>5216.0</td>\n",
       "      <td>NaN</td>\n",
       "      <td>NaN</td>\n",
       "      <td>NaN</td>\n",
       "    </tr>\n",
       "    <tr>\n",
       "      <th>4592257</th>\n",
       "      <td>980003</td>\n",
       "      <td>2021-04-26</td>\n",
       "      <td>1.4572</td>\n",
       "      <td>1.4572</td>\n",
       "      <td>0.020583</td>\n",
       "      <td>NaN</td>\n",
       "      <td>NaN</td>\n",
       "      <td>NaN</td>\n",
       "      <td>NaN</td>\n",
       "      <td>NaN</td>\n",
       "      <td>...</td>\n",
       "      <td>1.952011</td>\n",
       "      <td>4.294307</td>\n",
       "      <td>NaN</td>\n",
       "      <td>5946.0</td>\n",
       "      <td>739.0</td>\n",
       "      <td>5596.0</td>\n",
       "      <td>5181.0</td>\n",
       "      <td>NaN</td>\n",
       "      <td>NaN</td>\n",
       "      <td>NaN</td>\n",
       "    </tr>\n",
       "    <tr>\n",
       "      <th>4592258</th>\n",
       "      <td>980003</td>\n",
       "      <td>2021-04-27</td>\n",
       "      <td>1.4575</td>\n",
       "      <td>1.4575</td>\n",
       "      <td>0.006862</td>\n",
       "      <td>NaN</td>\n",
       "      <td>NaN</td>\n",
       "      <td>NaN</td>\n",
       "      <td>NaN</td>\n",
       "      <td>NaN</td>\n",
       "      <td>...</td>\n",
       "      <td>1.972996</td>\n",
       "      <td>4.750611</td>\n",
       "      <td>NaN</td>\n",
       "      <td>5560.0</td>\n",
       "      <td>692.0</td>\n",
       "      <td>6079.0</td>\n",
       "      <td>5254.0</td>\n",
       "      <td>NaN</td>\n",
       "      <td>NaN</td>\n",
       "      <td>NaN</td>\n",
       "    </tr>\n",
       "    <tr>\n",
       "      <th>4592259</th>\n",
       "      <td>980003</td>\n",
       "      <td>2021-04-28</td>\n",
       "      <td>1.4576</td>\n",
       "      <td>1.4576</td>\n",
       "      <td>0.013723</td>\n",
       "      <td>NaN</td>\n",
       "      <td>NaN</td>\n",
       "      <td>NaN</td>\n",
       "      <td>NaN</td>\n",
       "      <td>NaN</td>\n",
       "      <td>...</td>\n",
       "      <td>1.951457</td>\n",
       "      <td>4.802991</td>\n",
       "      <td>NaN</td>\n",
       "      <td>5442.0</td>\n",
       "      <td>968.0</td>\n",
       "      <td>5884.0</td>\n",
       "      <td>5108.0</td>\n",
       "      <td>NaN</td>\n",
       "      <td>NaN</td>\n",
       "      <td>NaN</td>\n",
       "    </tr>\n",
       "    <tr>\n",
       "      <th>4592260</th>\n",
       "      <td>980003</td>\n",
       "      <td>2021-04-29</td>\n",
       "      <td>1.4578</td>\n",
       "      <td>1.4578</td>\n",
       "      <td>NaN</td>\n",
       "      <td>NaN</td>\n",
       "      <td>NaN</td>\n",
       "      <td>NaN</td>\n",
       "      <td>NaN</td>\n",
       "      <td>NaN</td>\n",
       "      <td>...</td>\n",
       "      <td>1.958316</td>\n",
       "      <td>4.847524</td>\n",
       "      <td>NaN</td>\n",
       "      <td>5968.0</td>\n",
       "      <td>999.0</td>\n",
       "      <td>5615.0</td>\n",
       "      <td>5051.0</td>\n",
       "      <td>NaN</td>\n",
       "      <td>NaN</td>\n",
       "      <td>NaN</td>\n",
       "    </tr>\n",
       "  </tbody>\n",
       "</table>\n",
       "<p>5 rows × 23 columns</p>\n",
       "</div>"
      ],
      "text/plain": [
       "        instrument   datetime   $DWJZ   $LJJZ      y_1d  y_5d  y_20d  y_60d  \\\n",
       "4592256     980003 2021-04-23  1.4565  1.4565  0.048060   NaN    NaN    NaN   \n",
       "4592257     980003 2021-04-26  1.4572  1.4572  0.020583   NaN    NaN    NaN   \n",
       "4592258     980003 2021-04-27  1.4575  1.4575  0.006862   NaN    NaN    NaN   \n",
       "4592259     980003 2021-04-28  1.4576  1.4576  0.013723   NaN    NaN    NaN   \n",
       "4592260     980003 2021-04-29  1.4578  1.4578       NaN   NaN    NaN    NaN   \n",
       "\n",
       "         y_120d  y_240d  ...  his_120d  his_240d  his_480d  rank_20d  \\\n",
       "4592256     NaN     NaN  ...  1.988661  4.244207       NaN    6944.0   \n",
       "4592257     NaN     NaN  ...  1.952011  4.294307       NaN    5946.0   \n",
       "4592258     NaN     NaN  ...  1.972996  4.750611       NaN    5560.0   \n",
       "4592259     NaN     NaN  ...  1.951457  4.802991       NaN    5442.0   \n",
       "4592260     NaN     NaN  ...  1.958316  4.847524       NaN    5968.0   \n",
       "\n",
       "         rank_60d  rank_120d  rank_240d  rank_480d  average_rank  \\\n",
       "4592256     823.0     5798.0     5216.0        NaN           NaN   \n",
       "4592257     739.0     5596.0     5181.0        NaN           NaN   \n",
       "4592258     692.0     6079.0     5254.0        NaN           NaN   \n",
       "4592259     968.0     5884.0     5108.0        NaN           NaN   \n",
       "4592260     999.0     5615.0     5051.0        NaN           NaN   \n",
       "\n",
       "         rank_of_average_rank  \n",
       "4592256                   NaN  \n",
       "4592257                   NaN  \n",
       "4592258                   NaN  \n",
       "4592259                   NaN  \n",
       "4592260                   NaN  \n",
       "\n",
       "[5 rows x 23 columns]"
      ]
     },
     "execution_count": 66,
     "metadata": {},
     "output_type": "execute_result"
    }
   ],
   "source": [
    "df_test.tail()"
   ]
  },
  {
   "cell_type": "code",
   "execution_count": 67,
   "metadata": {},
   "outputs": [
    {
     "data": {
      "text/html": [
       "<div>\n",
       "<style scoped>\n",
       "    .dataframe tbody tr th:only-of-type {\n",
       "        vertical-align: middle;\n",
       "    }\n",
       "\n",
       "    .dataframe tbody tr th {\n",
       "        vertical-align: top;\n",
       "    }\n",
       "\n",
       "    .dataframe thead th {\n",
       "        text-align: right;\n",
       "    }\n",
       "</style>\n",
       "<table border=\"1\" class=\"dataframe\">\n",
       "  <thead>\n",
       "    <tr style=\"text-align: right;\">\n",
       "      <th></th>\n",
       "      <th>instrument</th>\n",
       "      <th>datetime</th>\n",
       "      <th>average_rank</th>\n",
       "      <th>rank_of_average_rank</th>\n",
       "    </tr>\n",
       "  </thead>\n",
       "  <tbody>\n",
       "    <tr>\n",
       "      <th>249317</th>\n",
       "      <td>000684</td>\n",
       "      <td>2021-04-29</td>\n",
       "      <td>792.0</td>\n",
       "      <td>10.0</td>\n",
       "    </tr>\n",
       "  </tbody>\n",
       "</table>\n",
       "</div>"
      ],
      "text/plain": [
       "       instrument   datetime  average_rank  rank_of_average_rank\n",
       "249317     000684 2021-04-29         792.0                  10.0"
      ]
     },
     "execution_count": 67,
     "metadata": {},
     "output_type": "execute_result"
    }
   ],
   "source": [
    "df_test[(df_test['rank_of_average_rank']==10)&(df_test['datetime']=='2021-04-29')][['instrument','datetime','average_rank','rank_of_average_rank']]"
   ]
  },
  {
   "cell_type": "code",
   "execution_count": 68,
   "metadata": {},
   "outputs": [
    {
     "data": {
      "text/html": [
       "<div>\n",
       "<style scoped>\n",
       "    .dataframe tbody tr th:only-of-type {\n",
       "        vertical-align: middle;\n",
       "    }\n",
       "\n",
       "    .dataframe tbody tr th {\n",
       "        vertical-align: top;\n",
       "    }\n",
       "\n",
       "    .dataframe thead th {\n",
       "        text-align: right;\n",
       "    }\n",
       "</style>\n",
       "<table border=\"1\" class=\"dataframe\">\n",
       "  <thead>\n",
       "    <tr style=\"text-align: right;\">\n",
       "      <th></th>\n",
       "      <th>instrument</th>\n",
       "      <th>datetime</th>\n",
       "      <th>average_rank</th>\n",
       "      <th>rank_of_average_rank</th>\n",
       "    </tr>\n",
       "  </thead>\n",
       "  <tbody>\n",
       "    <tr>\n",
       "      <th>1857204</th>\n",
       "      <td>005296</td>\n",
       "      <td>2021-04-29</td>\n",
       "      <td>431.0</td>\n",
       "      <td>1.0</td>\n",
       "    </tr>\n",
       "  </tbody>\n",
       "</table>\n",
       "</div>"
      ],
      "text/plain": [
       "        instrument   datetime  average_rank  rank_of_average_rank\n",
       "1857204     005296 2021-04-29         431.0                   1.0"
      ]
     },
     "execution_count": 68,
     "metadata": {},
     "output_type": "execute_result"
    }
   ],
   "source": [
    "df_test[(df_test['rank_of_average_rank']==1)&(df_test['datetime']=='2021-04-29')][['instrument','datetime','average_rank','rank_of_average_rank']]"
   ]
  },
  {
   "cell_type": "code",
   "execution_count": 130,
   "metadata": {},
   "outputs": [],
   "source": [
    "def get_list(start_rank,end_rank,date='2021-04-29'): \n",
    "    return df_test[(df_test['rank_of_average_rank']>=start_rank)&(df_test['rank_of_average_rank']<=end_rank)&(df_test['datetime']==date)][['instrument','datetime','average_rank','rank_of_average_rank']]"
   ]
  },
  {
   "cell_type": "code",
   "execution_count": 132,
   "metadata": {},
   "outputs": [
    {
     "data": {
      "text/html": [
       "<div>\n",
       "<style scoped>\n",
       "    .dataframe tbody tr th:only-of-type {\n",
       "        vertical-align: middle;\n",
       "    }\n",
       "\n",
       "    .dataframe tbody tr th {\n",
       "        vertical-align: top;\n",
       "    }\n",
       "\n",
       "    .dataframe thead th {\n",
       "        text-align: right;\n",
       "    }\n",
       "</style>\n",
       "<table border=\"1\" class=\"dataframe\">\n",
       "  <thead>\n",
       "    <tr style=\"text-align: right;\">\n",
       "      <th></th>\n",
       "      <th>instrument</th>\n",
       "      <th>datetime</th>\n",
       "      <th>average_rank</th>\n",
       "      <th>rank_of_average_rank</th>\n",
       "    </tr>\n",
       "  </thead>\n",
       "  <tbody>\n",
       "    <tr>\n",
       "      <th>290406</th>\n",
       "      <td>000831</td>\n",
       "      <td>2021-04-29</td>\n",
       "      <td>861.0</td>\n",
       "      <td>11.0</td>\n",
       "    </tr>\n",
       "    <tr>\n",
       "      <th>481267</th>\n",
       "      <td>001365</td>\n",
       "      <td>2021-04-29</td>\n",
       "      <td>863.0</td>\n",
       "      <td>12.0</td>\n",
       "    </tr>\n",
       "    <tr>\n",
       "      <th>541734</th>\n",
       "      <td>001532</td>\n",
       "      <td>2021-04-29</td>\n",
       "      <td>1415.0</td>\n",
       "      <td>19.0</td>\n",
       "    </tr>\n",
       "    <tr>\n",
       "      <th>546718</th>\n",
       "      <td>001543</td>\n",
       "      <td>2021-04-29</td>\n",
       "      <td>899.0</td>\n",
       "      <td>13.0</td>\n",
       "    </tr>\n",
       "    <tr>\n",
       "      <th>983857</th>\n",
       "      <td>002708</td>\n",
       "      <td>2021-04-29</td>\n",
       "      <td>1295.0</td>\n",
       "      <td>16.0</td>\n",
       "    </tr>\n",
       "    <tr>\n",
       "      <th>1198252</th>\n",
       "      <td>003291</td>\n",
       "      <td>2021-04-29</td>\n",
       "      <td>1279.0</td>\n",
       "      <td>15.0</td>\n",
       "    </tr>\n",
       "    <tr>\n",
       "      <th>1697167</th>\n",
       "      <td>004868</td>\n",
       "      <td>2021-04-29</td>\n",
       "      <td>1370.0</td>\n",
       "      <td>17.0</td>\n",
       "    </tr>\n",
       "    <tr>\n",
       "      <th>1748588</th>\n",
       "      <td>005004</td>\n",
       "      <td>2021-04-29</td>\n",
       "      <td>1388.0</td>\n",
       "      <td>18.0</td>\n",
       "    </tr>\n",
       "    <tr>\n",
       "      <th>4136281</th>\n",
       "      <td>501038</td>\n",
       "      <td>2021-04-29</td>\n",
       "      <td>1448.0</td>\n",
       "      <td>20.0</td>\n",
       "    </tr>\n",
       "    <tr>\n",
       "      <th>4333707</th>\n",
       "      <td>519171</td>\n",
       "      <td>2021-04-29</td>\n",
       "      <td>1210.0</td>\n",
       "      <td>14.0</td>\n",
       "    </tr>\n",
       "  </tbody>\n",
       "</table>\n",
       "</div>"
      ],
      "text/plain": [
       "        instrument   datetime  average_rank  rank_of_average_rank\n",
       "290406      000831 2021-04-29         861.0                  11.0\n",
       "481267      001365 2021-04-29         863.0                  12.0\n",
       "541734      001532 2021-04-29        1415.0                  19.0\n",
       "546718      001543 2021-04-29         899.0                  13.0\n",
       "983857      002708 2021-04-29        1295.0                  16.0\n",
       "1198252     003291 2021-04-29        1279.0                  15.0\n",
       "1697167     004868 2021-04-29        1370.0                  17.0\n",
       "1748588     005004 2021-04-29        1388.0                  18.0\n",
       "4136281     501038 2021-04-29        1448.0                  20.0\n",
       "4333707     519171 2021-04-29        1210.0                  14.0"
      ]
     },
     "execution_count": 132,
     "metadata": {},
     "output_type": "execute_result"
    }
   ],
   "source": [
    "get_list(11,20,'2021-04-29')"
   ]
  },
  {
   "cell_type": "code",
   "execution_count": null,
   "metadata": {},
   "outputs": [],
   "source": []
  }
 ],
 "metadata": {
  "kernelspec": {
   "display_name": "Python 3",
   "language": "python",
   "name": "python3"
  },
  "language_info": {
   "codemirror_mode": {
    "name": "ipython",
    "version": 3
   },
   "file_extension": ".py",
   "mimetype": "text/x-python",
   "name": "python",
   "nbconvert_exporter": "python",
   "pygments_lexer": "ipython3",
   "version": "3.7.7"
  }
 },
 "nbformat": 4,
 "nbformat_minor": 4
}
